{
 "cells": [
  {
   "cell_type": "code",
   "execution_count": 3,
   "id": "91b09d2d-9d5e-4a24-8a50-82d20f598a62",
   "metadata": {},
   "outputs": [],
   "source": [
    "import logging\n",
    "from datetime import datetime\n",
    "\n",
    "from pythonjsonlogger import jsonlogger"
   ]
  },
  {
   "cell_type": "code",
   "execution_count": 4,
   "id": "c0234709-1681-473e-bf40-2becacf24696",
   "metadata": {},
   "outputs": [],
   "source": [
    "class JsonFormatterWithTime(jsonlogger.JsonFormatter):\n",
    "    def __init__(self) -> None:\n",
    "        super().__init__('%(timestamp)s %(level)s %(name)s %(message)s', json_ensure_ascii=False)\n",
    "\n",
    "    def add_fields(self, log_record, record, message_dict):\n",
    "        super(JsonFormatterWithTime, self).add_fields(log_record, record, message_dict)\n",
    "        if log_record.get('timestamp') == None:\n",
    "            now = datetime.utcnow().strftime('%Y-%m-%dT%H:%M:%S.%fZ')\n",
    "            log_record['timestamp'] = now\n",
    "        if log_record.get('level'):\n",
    "            log_record['level'] = log_record['level'].upper()\n",
    "        else:\n",
    "            log_record['level'] = record.levelname"
   ]
  },
  {
   "cell_type": "code",
   "execution_count": 5,
   "id": "e0d72ce6-085e-43d3-8ae5-8c90aa439659",
   "metadata": {},
   "outputs": [],
   "source": [
    "def get_json_logger(log_path, name='json_loader'):\n",
    "    \"\"\"Returns a logger that logs JSON objects to a file.\"\"\"\n",
    "    logger = logging.getLogger(name)\n",
    "    logger.setLevel(logging.INFO)\n",
    "    file_handler = logging.FileHandler(log_path)\n",
    "    file_handler.setFormatter(JsonFormatterWithTime())\n",
    "    logger.addHandler(file_handler)\n",
    "    return logger"
   ]
  },
  {
   "cell_type": "code",
   "execution_count": 6,
   "id": "1d93b182-650c-4890-aa3e-39e091d205d8",
   "metadata": {},
   "outputs": [],
   "source": [
    "def is_notebook() -> bool:\n",
    "    try:\n",
    "        shell = get_ipython().__class__.__name__\n",
    "        if shell == 'ZMQInteractiveShell':\n",
    "            return True   # Jupyter notebook or qtconsole\n",
    "        elif shell == 'TerminalInteractiveShell':\n",
    "            return False  # Terminal running IPython\n",
    "        else:\n",
    "            return False  # Other type (?)\n",
    "    except NameError:\n",
    "        return False      # Probably standard Python interpreter"
   ]
  },
  {
   "cell_type": "code",
   "execution_count": 1,
   "id": "110a05b7-792d-44d2-87b0-efa88f224e51",
   "metadata": {},
   "outputs": [],
   "source": [
    "def pretty_time(seconds_from_beginning):\n",
    "    h = seconds_from_beginning // 3600\n",
    "    m = (seconds_from_beginning % 3600) // 60\n",
    "    s = int(seconds_from_beginning % 60)\n",
    "\n",
    "    if h > 0:\n",
    "        return f\"{h:n}:{m:02n}:{s:02n}\"\n",
    "    else:\n",
    "        return f\"{m:n}:{s:02n}\"\n",
    "\n",
    "\n",
    "assert pretty_time(0.0) == '0:00'\n",
    "assert pretty_time(60.0) == '1:00'\n",
    "assert pretty_time(121.0) == '2:01'\n",
    "assert pretty_time(777) == '12:57'\n",
    "assert pretty_time(4000) == '1:06:40'"
   ]
  },
  {
   "cell_type": "code",
   "execution_count": 2,
   "id": "3e2ce774-c65b-40d3-bf0c-321d6e90fcb6",
   "metadata": {},
   "outputs": [],
   "source": [
    "def kk(dictionary: dict, space_sep_keywords, default=None):\n",
    "    x = dict(dictionary)\n",
    "    for kwd in space_sep_keywords.split():\n",
    "        if not isinstance(x, dict):\n",
    "            return default\n",
    "        x = x.get(kwd)\n",
    "        if x is None:\n",
    "            return default\n",
    "    return x\n",
    "\n",
    "\n",
    "assert kk({'update': {'message': {'text': '123'}}}, 'update message text') == '123'\n",
    "assert kk({'update': {'message': {'text': '123'}}}, 'update message from id') is None\n",
    "assert kk({'update': {'message': {'text': '123'}}}, 'update message from id', 'UNKNOWN') == 'UNKNOWN'\n",
    "assert kk({'update': ''}, 'update message', 'UNKNOWN') == 'UNKNOWN'"
   ]
  },
  {
   "cell_type": "code",
   "execution_count": null,
   "id": "39f35bb7-0b40-4667-ba84-413bb616cc11",
   "metadata": {},
   "outputs": [],
   "source": []
  }
 ],
 "metadata": {
  "kernelspec": {
   "display_name": "Python [conda env:crabnlp]",
   "language": "python",
   "name": "conda-env-crabnlp-py"
  },
  "language_info": {
   "codemirror_mode": {
    "name": "ipython",
    "version": 3
   },
   "file_extension": ".py",
   "mimetype": "text/x-python",
   "name": "python",
   "nbconvert_exporter": "python",
   "pygments_lexer": "ipython3",
   "version": "3.11.0"
  },
  "vscode": {
   "interpreter": {
    "hash": "916dbcbb3f70747c44a77c7bcd40155683ae19c65e1c03b4aa3499c5328201f1"
   }
  }
 },
 "nbformat": 4,
 "nbformat_minor": 5
}
