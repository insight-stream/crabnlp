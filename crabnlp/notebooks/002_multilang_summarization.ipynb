{
 "cells": [
  {
   "cell_type": "code",
   "execution_count": 20,
   "id": "c441d020-000c-4ac0-be09-8e9949fd6000",
   "metadata": {},
   "outputs": [],
   "source": [
    "import os\n",
    "import json\n",
    "\n",
    "import openai\n",
    "\n",
    "from youtube import download_captions_and_meta\n",
    "from summarize import chunk_a_text"
   ]
  },
  {
   "cell_type": "code",
   "execution_count": 21,
   "id": "d7b495b0-e32b-4797-86cb-f63abe520863",
   "metadata": {},
   "outputs": [],
   "source": [
    "GPT_MODEL_NAME = \"gpt-3.5-turbo\"\n",
    "GPT_MODEL_MAX_TOKENS = 2049\n",
    "openai.api_key = os.environ['OPENAI']"
   ]
  },
  {
   "cell_type": "code",
   "execution_count": 22,
   "id": "4cc239b0-d7b8-4c17-8d26-a76025cf5e27",
   "metadata": {},
   "outputs": [],
   "source": [
    "# m = download_captions_and_meta(\"https://www.youtube.com/watch?v=z3ohWzO9-TY\")\n",
    "with open('/mnt/storage/newsboy/z3ohWzO9-TY-meta.json') as f:\n",
    "    m = json.load(f)"
   ]
  },
  {
   "cell_type": "code",
   "execution_count": 86,
   "id": "4c675657-3519-4a26-83a2-55bc3c791d00",
   "metadata": {},
   "outputs": [],
   "source": [
    "text = ' '.join(x['text'] for x in m['captions'])\n",
    "chunks = list(chunk_a_text(text, 4000))"
   ]
  },
  {
   "cell_type": "code",
   "execution_count": 88,
   "id": "d8c56f74-be7e-4e38-ac6c-b7c0fc8dec0d",
   "metadata": {},
   "outputs": [],
   "source": [
    "def summarize_with_gpt(text, model_name=GPT_MODEL_NAME):\n",
    "    assert text\n",
    "    assert isinstance(text, str)\n",
    "\n",
    "    resp = openai.ChatCompletion.create(\n",
    "      model=model_name,\n",
    "      messages=[\n",
    "            FIRST_TOKEN,\n",
    "            {\"role\": \"user\", \"content\": f\"{text}\\n\\nWrite a summary for the text above\"}\n",
    "      ]\n",
    "    )\n",
    "    return resp['choices'][0]['message']['content']\n",
    "\n"
   ]
  },
  {
   "cell_type": "code",
   "execution_count": 89,
   "id": "a59fa886-f4d4-4551-8a77-3aebadeec765",
   "metadata": {},
   "outputs": [],
   "source": [
    "# Write a summary for the text above"
   ]
  },
  {
   "cell_type": "code",
   "execution_count": 111,
   "id": "127e74cf-8a6a-47cf-9f9f-a8c0b9036fbd",
   "metadata": {},
   "outputs": [
    {
     "data": {
      "text/plain": [
       "'a.ru'"
      ]
     },
     "execution_count": 111,
     "metadata": {},
     "output_type": "execute_result"
    }
   ],
   "source": [
    "m['captions_track']"
   ]
  },
  {
   "cell_type": "code",
   "execution_count": 90,
   "id": "b53892d2-6900-43ff-8803-8dcc0210b065",
   "metadata": {},
   "outputs": [
    {
     "data": {
      "text/plain": [
       "27"
      ]
     },
     "execution_count": 90,
     "metadata": {},
     "output_type": "execute_result"
    }
   ],
   "source": [
    "len(chunks)"
   ]
  },
  {
   "cell_type": "code",
   "execution_count": 96,
   "id": "520c6a16-2bd6-4292-b435-9380f94381df",
   "metadata": {},
   "outputs": [
    {
     "data": {
      "text/plain": [
       "'зался я причем  только не так я давно понял что это тот  звонкий с которого как бы ну я не  фанател с него просто для меня было я  взял какого-то артиста фотографа для  меня это было Волков Ну типа да потому  что я жил на Красногвардейской там Кады  еще не было там где я жил там не был  МКАДа То есть у меня из-за окон  кукурузные поля были Вот и короче тогда  вот это было и потом когда вот ты  двигаешься оно уже как-то  Вау типа мы справились я понял В общем  это с первых Ага Слушай я вот не могу не  спросить Это наверное вообще я такая  одна из глобальных важных тем вот я на  тебя всегда смотрю и знаешь как  воспринимаю что ты работал там с  артистами всю свою жизнь у вас огромное  количество артистов было есть твой  прямой партнёр большая звезда и вот я  просто понимаю что когда знаешь как  компании появляется какой-то сотрудник  звезда это уже определённая такая не то  чтобы проблема но это всегда сложность  потому что с одной стороны если этот  человек круто работает Ты хочешь его  сохранить с другой стороны если он  определенная звезда и он самый лучший он  осознает свою ценность Ну и как бы  получается такой дисбаланс и Это большой  вопрос у всех сегодня тем более в мире  когда все хотят стать популярными как  вообще с людьми у которых есть  определенная аудитория у которых есть и  звезды большие таланты как с ними  строить отношения и вообще как как вам  удается это делать потому что я вот  слышно что ты спрашивал уже кто-то и ты  отвечаешь ну просто искать подход как-то  Вот такие мне интересно понять прям на  кончиках пальцев как когда перед тобой  человек у которого в любом случае рано  или поздно вырисовывается какая-то  Корона на голове и он понимает свою  ценность и он понимает что ты хочешь с  этим человеком дальше строить дела  потому что он приносит деньги как это  вообще как это связывать Как работать с  такими людьми понял  Давай разложим попробуем на несколько  как бы составляющих первое  есть люди Чуть более адекватные есть  чуть менее адекватные Вот чуть менее  адекватно оторван от реальности с ними  никак построишь Какие бы они не были  просто они улетели все и как будто как  бы ты не типа не пытался Он улетел это  связано с разными вещами чаще всего  связано с окружением человека когда люди  рисуют человеку Ну как бы вообще Другую  картинку которая происходит человек  отрывается первое второе когда человек  настолько сильно самовлюблен в себя что  он начинает охеревать от себя настолько  что типа всё что рядом оно уже является  его конкурентом и здесь невозможно найти  никакую точку соприкосновения То есть ты  никак не сможешь этого человека удержать  с ним можно разовать что-то делать как  бы дружить То есть переводить просто в  другой формат чтобы человек по-другому  был полезен но работать точно не  получится ты будешь просто все время  бегать за этим человеком и чувствовать  что как бы ну не ты уже руководитель  а это причины по которым могут быть либо  просто сам по себе человек вот такой как  бы ну  шибанутой как бы неадекватные то есть и  таких среди молодежи к сожалению сейчас  много это американская тенденция которая  пришла и как бы вся молодежь сейчас она  не отвечает вообще за свои слова ну то  есть 95 процентов Вот они с тобой  поговорили Он в принципе уже там через 5  минут даже не помнит о чём он с тобой  договорился А у меня было ощущение что  возможно я не прав что именно эта тема  артистов вообще что они настолько Вот  это творческая нотка она делает вообще А  да это вообще сейчас вся молодёжь такая  просто у артистов это гипертрофированная  вот э-э дальше смотрим на то каким  образом всё-таки выстраивать когда это  происходит первое - это конкуренция То  есть когда ты понимаешь что у человека  появляется кино ты В первую очеред'"
      ]
     },
     "execution_count": 96,
     "metadata": {},
     "output_type": "execute_result"
    }
   ],
   "source": [
    "t = chunks[7]\n",
    "t"
   ]
  },
  {
   "cell_type": "code",
   "execution_count": 100,
   "id": "407fd90f-2483-4d4c-b992-78c33c32d33f",
   "metadata": {},
   "outputs": [
    {
     "data": {
      "text/plain": [
       "\"The video discusses how to work with celebrities and high-performing individuals. The speaker explains that it's important to differentiate between the sane and insane individuals, as well as those who are so self-absorbed that they are impossible to work with. The video also highlights the importance of finding common ground and establishing a professional relationship with high-performing individuals while recognizing the potential for competition. Furthermore, the speaker discusses the difficulties of working with individuals who possess a sense of entitlement and how to deal with them professionally.\""
      ]
     },
     "execution_count": 100,
     "metadata": {},
     "output_type": "execute_result"
    }
   ],
   "source": [
    "FIRST_TOKEN = {\"role\": \"system\", \"content\": \"You are a helpful assistant that helps a user understand a video.\"}\n",
    "resp = openai.ChatCompletion.create(\n",
    "  model=GPT_MODEL_NAME,\n",
    "  messages=[\n",
    "        FIRST_TOKEN,\n",
    "        {\"role\": \"user\", \"content\": f\"{t}\\n\\nWrite summary for the text of the video. Use language of the text\"}\n",
    "  ]\n",
    ")\n",
    "s = resp['choices'][0]['message']['content']\n",
    "s"
   ]
  },
  {
   "cell_type": "code",
   "execution_count": 116,
   "id": "81913612-c33e-4dad-b68d-1cc2a557b0bd",
   "metadata": {},
   "outputs": [
    {
     "data": {
      "text/plain": [
       "'Текст о том, как работать с артистами и звездами, которые осознают свою ценность. Автор разделяет людей на более и менее адекватных и утверждает, что с теми, кто оторван от реальности, нельзя работать. Также обсуждается конкуренция и необходимость находить точки соприкосновения.'"
      ]
     },
     "execution_count": 116,
     "metadata": {},
     "output_type": "execute_result"
    }
   ],
   "source": [
    "FIRST_TOKEN = {\"role\": \"system\", \"content\": \"\"}\n",
    "resp = openai.ChatCompletion.create(\n",
    "  model=GPT_MODEL_NAME,\n",
    "  messages=[\n",
    "        FIRST_TOKEN,\n",
    "        {\"role\": \"user\", \"content\": f\"{t}\\n\\nWrite summary for the text in Russian\"}\n",
    "  ]\n",
    ")\n",
    "s = resp['choices'][0]['message']['content']\n",
    "s"
   ]
  },
  {
   "cell_type": "code",
   "execution_count": 117,
   "id": "3beb4afe-eeed-415e-8517-0e50b53272cb",
   "metadata": {},
   "outputs": [
    {
     "data": {
      "text/plain": [
       "'В тексте автор обсуждает сложности работы с артистами и людьми, которые имеют определенную звездную ценность. Он различает людей по уровню адекватности и утверждает, что некоторых невозможно удержать или работать с ними. Ключевыми моментами, которые следует учитывать, при работе с этими людьми, являются конкуренция и наличие аудитории. Он также отмечает небрежный и неправильный подход молодежи к артистам, который приводит к гипертрофированию и нереальным ожиданиям.'"
      ]
     },
     "execution_count": 117,
     "metadata": {},
     "output_type": "execute_result"
    }
   ],
   "source": [
    "FIRST_TOKEN = {\"role\": \"system\", \"content\": \"\"}\n",
    "resp = openai.ChatCompletion.create(\n",
    "  model=GPT_MODEL_NAME,\n",
    "  messages=[\n",
    "        FIRST_TOKEN,\n",
    "        {\"role\": \"user\", \"content\": f\"{t}\\n\\nКраткое содержание приведенного выше текста\"}\n",
    "  ]\n",
    ")\n",
    "s = resp['choices'][0]['message']['content']\n",
    "s"
   ]
  },
  {
   "cell_type": "code",
   "execution_count": 104,
   "id": "bd70720d-2a6c-4580-900d-39705aa0d4b1",
   "metadata": {},
   "outputs": [
    {
     "data": {
      "text/plain": [
       "'1. Работа с артистами - сложная задача из-за наличия у них определенной аудитории и осознания своей ценности.\\n\\n2. Люди могут быть более или менее адекватными, и с менее адекватными людьми сложнее работать.\\n\\n3. Невозможно найти точку соприкосновения с человеком, который настолько самовлюблен в себя, что начинает охеревать от себя.\\n\\n4. В среде молодежи сейчас много американской тенденции, когда люди не отвечают за свои слова.\\n\\n5. Важно учитывать конкуренцию и находить общую точку соприкосновения при работе с артистами.\\n\\n6. Главная задача - не удержать артиста, а найти общий язык и перевести на другой формат работы.'"
      ]
     },
     "execution_count": 104,
     "metadata": {},
     "output_type": "execute_result"
    }
   ],
   "source": [
    "FIRST_TOKEN = {\"role\": \"system\", \"content\": \"\"}\n",
    "resp = openai.ChatCompletion.create(\n",
    "  model=GPT_MODEL_NAME,\n",
    "  messages=[\n",
    "        FIRST_TOKEN,\n",
    "        {\"role\": \"user\", \"content\": f\"{t}\\n\\nВыдели главные тезисы\"}\n",
    "  ]\n",
    ")\n",
    "s = resp['choices'][0]['message']['content']\n",
    "s"
   ]
  },
  {
   "cell_type": "code",
   "execution_count": null,
   "id": "ecc53435-fccc-4067-af92-484b9022766e",
   "metadata": {},
   "outputs": [],
   "source": []
  },
  {
   "cell_type": "code",
   "execution_count": null,
   "id": "360e1a30-9cee-473e-835e-db13a2887ea1",
   "metadata": {},
   "outputs": [],
   "source": []
  },
  {
   "cell_type": "markdown",
   "id": "d277e11e-0939-43e8-ad33-340c6ecef0f5",
   "metadata": {},
   "source": [
    "# Crosslingual prompting and dynamic chunking"
   ]
  },
  {
   "cell_type": "code",
   "execution_count": 29,
   "id": "651e79f7-84a6-48b4-8767-fa553c36bd48",
   "metadata": {},
   "outputs": [],
   "source": [
    "import os\n",
    "import deepl\n",
    "from transformers import GPT2TokenizerFast\n",
    "from polyglot.detect import Detector\n",
    "import openai\n",
    "\n",
    "openai.api_key = os.environ['OPENAI']\n",
    "\n",
    "tokenizer = GPT2TokenizerFast.from_pretrained(\"gpt2\")\n",
    "\n",
    "t = \"\"\"Quantum computing is a type of computing that relies on the principles of quantum mechanics to process information. In classical computing, information is processed using bits that can be in either a 0 or 1 state. In quantum computing, information is processed using quantum bits or qubits, which can be in a 0 or 1 state, or in a superposition of both states at the same time.\n",
    "\n",
    "This property of superposition allows quantum computers to perform certain calculations much faster than classical computers. Additionally, quantum computers can take advantage of another property of quantum mechanics called entanglement, which allows qubits to be connected in a way that allows them to work together in a highly correlated way.\n",
    "\n",
    "Quantum computing is still in the early stages of development, and current quantum computers are not yet powerful enough to outperform classical computers for most tasks. However, researchers are continuing to make progress in developing more powerful quantum computers, and it is possible that in the future, quantum computing could revolutionize fields such as cryptography, materials science, and drug discovery.\"\"\""
   ]
  },
  {
   "cell_type": "code",
   "execution_count": 35,
   "id": "7f780051-d5dc-4442-a057-57f1c7e43877",
   "metadata": {},
   "outputs": [],
   "source": [
    "deepl2iso = {'EN-GB': 'en', 'EN-US': 'en', \n",
    "             'ID': 'nn', 'NB': 'nn', \n",
    "             'PT-BR': 'pt', 'PT-PT': 'pt'}"
   ]
  },
  {
   "cell_type": "code",
   "execution_count": 13,
   "id": "368a8916-97f0-4166-80d9-c49cd6c95138",
   "metadata": {
    "tags": []
   },
   "outputs": [],
   "source": [
    "translator = deepl.Translator(os.environ['DEEPL'])\n",
    "\n",
    "sizes = {'en': len(tokenizer(t)['input_ids'])}\n",
    "for lang in translator.get_target_languages():\n",
    "    result = translator.translate_text(t, target_lang=lang)\n",
    "    d = Detector(result.text)\n",
    "    print(lang.code, d.languages[0].code)\n",
    "    print(len(tokenizer(result.text)['input_ids']))\n",
    "    print()\n",
    "    sizes[d.languages[0].code] = len(tokenizer(result.text)['input_ids'])\n",
    "    \n",
    "sizes\n",
    "\n",
    "\n"
   ]
  },
  {
   "cell_type": "code",
   "execution_count": 37,
   "id": "32f9fd46-f905-4a23-a79c-1c61aaa4c56e",
   "metadata": {},
   "outputs": [
    {
     "name": "stdout",
     "output_type": "stream",
     "text": [
      "bg Обобщаване на текста\n",
      "\n",
      "cs Shrnutí textu\n",
      "\n",
      "da Sammenfatning af teksten\n",
      "\n",
      "de Fassen Sie den Text zusammen\n",
      "\n",
      "el Συνοψίστε το κείμενο\n",
      "\n",
      "en Summarize the text\n",
      "\n",
      "en Summarize the text\n",
      "\n",
      "es Resumir el texto\n",
      "\n",
      "et Võtke tekst kokku\n",
      "\n",
      "fi Tiivistä teksti\n",
      "\n",
      "fr Résumez le texte\n",
      "\n",
      "hu A szöveg összefoglalása\n",
      "\n",
      "nn Meringkas teks\n",
      "\n",
      "it Riassumere il testo\n",
      "\n",
      "ja 本文を要約する\n",
      "\n",
      "ko 텍스트 요약\n",
      "\n",
      "lt Apibendrinti tekstą\n",
      "\n",
      "lv Apkopojiet tekstu\n",
      "\n",
      "nn Oppsummer teksten\n",
      "\n",
      "nl De tekst samenvatten\n",
      "\n",
      "pl Podsumuj tekst\n",
      "\n",
      "pt Resumir o texto\n",
      "\n",
      "pt Resumir o texto\n",
      "\n",
      "ro Rezumați textul\n",
      "\n",
      "ru Резюмируйте текст\n",
      "\n",
      "sk Zhrňte text\n",
      "\n",
      "sl Povzemanje besedila\n",
      "\n",
      "sv Sammanfattning av texten\n",
      "\n",
      "tr Metni özetleyin\n",
      "\n",
      "uk Підсумуйте текст\n",
      "\n",
      "zh 归纳文本\n",
      "\n"
     ]
    },
    {
     "data": {
      "text/plain": [
       "{'en': 'Summarize the text',\n",
       " 'bg': 'Обобщаване на текста',\n",
       " 'cs': 'Shrnutí textu',\n",
       " 'da': 'Sammenfatning af teksten',\n",
       " 'de': 'Fassen Sie den Text zusammen',\n",
       " 'el': 'Συνοψίστε το κείμενο',\n",
       " 'es': 'Resumir el texto',\n",
       " 'et': 'Võtke tekst kokku',\n",
       " 'fi': 'Tiivistä teksti',\n",
       " 'fr': 'Résumez le texte',\n",
       " 'hu': 'A szöveg összefoglalása',\n",
       " 'nn': 'Oppsummer teksten',\n",
       " 'it': 'Riassumere il testo',\n",
       " 'ja': '本文を要約する',\n",
       " 'ko': '텍스트 요약',\n",
       " 'lt': 'Apibendrinti tekstą',\n",
       " 'lv': 'Apkopojiet tekstu',\n",
       " 'nl': 'De tekst samenvatten',\n",
       " 'pl': 'Podsumuj tekst',\n",
       " 'pt': 'Resumir o texto',\n",
       " 'ro': 'Rezumați textul',\n",
       " 'ru': 'Резюмируйте текст',\n",
       " 'sk': 'Zhrňte text',\n",
       " 'sl': 'Povzemanje besedila',\n",
       " 'sv': 'Sammanfattning av texten',\n",
       " 'tr': 'Metni özetleyin',\n",
       " 'uk': 'Підсумуйте текст',\n",
       " 'zh': '归纳文本'}"
      ]
     },
     "execution_count": 37,
     "metadata": {},
     "output_type": "execute_result"
    }
   ],
   "source": [
    "# en_cmd = \"Write a short summary for the text above\"\n",
    "en_cmd = \"Summarize the text\"\n",
    "\n",
    "cmds = {'en': en_cmd}\n",
    "# for lang in ['ru']: #translator.get_target_languages():\n",
    "for lang in translator.get_target_languages():\n",
    "    result = translator.translate_text(en_cmd, target_lang=lang)\n",
    "    L = deepl2iso.get(lang.code, lang.code).lower()\n",
    "    print(L, result.text)\n",
    "    print()\n",
    "    cmds[L] = result.text\n",
    "cmds"
   ]
  },
  {
   "cell_type": "code",
   "execution_count": 31,
   "id": "50976c35-d316-45da-a88b-b14ef2eac3a0",
   "metadata": {},
   "outputs": [
    {
     "data": {
      "text/plain": [
       "'Разговор с Новым гостем был о его бизнесе, который занимается производством и продажей раздвижных антимоскитных систем для частных домов. Он закупает комплектующие у производителей и собирает изделия, которые затем продает и устанавливает по всей России. Основной клиент - частные дома в Самарской области, где продажи составляют 70% выручки. Он также заявил, что рентабельность установки и продажи у них примерно одинакова, и у них есть пять сотрудников. Гость начал заниматься этим бизнесом как представитель, но в итоге решил продавать самостоятельно.'"
      ]
     },
     "execution_count": 31,
     "metadata": {},
     "output_type": "execute_result"
    }
   ],
   "source": [
    "t = 'поприветствуем Нового гостя четвертый  разбор  Как зовут Данил зовут Сколько лет раз  два года хорош Какой у тебя ниша Чем  занимаешься мы занимаемся производством  раздвижных антимоскитных систем мы  представительства У нас есть свои мы не  производители именно комплектующих  именно самой системы Это у нас  занимается поставщики Мы работаем только  с розницей вас это что такое сеточки на  окна которые складываются раскладываются  их в общем не ремонтируешь каждый год и  так далее основной клиент у нас это  частные дома Вот мы остальные все  отбрасываем квартиры так далее только  дома только дома частные Понятно в  Самаре работаете Самарской области  продаем по России Понятно А можешь  объяснить без моделей вообще то есть У  кого что закупаете как деньги рождаются  мы занимаемся именно сборкой и продажей  У нас есть производители которые берут  металлургических заводах комплектующие  для изделий вот мы сами в принципе  собираем по размерам и устанавливаем  клиенту Конечно вы у завода закупаете  Или вы просто платите работать закупили  перепродали клиентам установили и  зарабатываем маржу как на перепродаже  так и установке Да все верно Понятно чем  самом производстве то что мы из  комплектующих собираем готовые изделия  пример комплектующие такие рамы всякие  сетки вы все собираете это ваша наценка  потом перепродаете за эту наценка из  установки правильно Окей хорошо продаете  и устанавливаете по всей России только  Самарской области только Самарского  продаем по всей устанавливаем только  Самарской области сто процентов выручки  то Сколько занимает продажа Сколько  занимает продажи простановка в Самарской  области продаж  70%. то есть выручки это продажа по  России продажи по основной области 70%.  а то есть где-то вот так короче это  Самара А вот так это Россия А сколько  чистой прибыли приносят это направление  но они будут по 30 процентов  А как так рентабельность установкой  такая же как на продажу у нас установка  получается сотрудники  почему зачем сотрудники работают  Ну во-первых так проще считать во-вторых  мы не путаемся в-третьих  то что мы можем продавать изделия Как  так и со своей установкой там и просто  продажа Вот такая схема сок сотрудников  пять пять сотрудников ты сам это все  придумал но мы зашли в проект это мы  взяли представительство Я просто говорю  почему не знаю мой Николай биполярка  и получается мы начали как представители  сами работали до сентября этого года мне  потом это все надоело я не захотел  заниматься розницей потому что я  посмотрел по стоимости что-то там в  итоге получается по чистой прибыли Я  думаю такая история интересная Я решил  продавать В итоге сентябрьской вот эта  вся история началась уже который после  20 числа у меня слетели покупатели я  такой типа ну ладно пусть постоит А как  ты попал в эту тему вот такой желтый  занимались  ч'\n",
    "\n",
    "\n",
    "resp = openai.ChatCompletion.create(\n",
    "  model=\"gpt-3.5-turbo\",\n",
    "  messages=[\n",
    "        {\"role\": \"system\", \"content\": \"\"},\n",
    "        {\"role\": \"user\", \"content\": f\"{t}\\n\\nРезюмируйте текст\"}\n",
    "  ]\n",
    ")\n",
    "resp['choices'][0]['message']['content']"
   ]
  },
  {
   "cell_type": "code",
   "execution_count": null,
   "id": "ff5cf53f-374c-473d-98ec-d3de9425fd30",
   "metadata": {},
   "outputs": [],
   "source": []
  }
 ],
 "metadata": {
  "kernelspec": {
   "display_name": "Python [conda env:crabnlp]",
   "language": "python",
   "name": "conda-env-crabnlp-py"
  },
  "language_info": {
   "codemirror_mode": {
    "name": "ipython",
    "version": 3
   },
   "file_extension": ".py",
   "mimetype": "text/x-python",
   "name": "python",
   "nbconvert_exporter": "python",
   "pygments_lexer": "ipython3",
   "version": "3.11.0"
  }
 },
 "nbformat": 4,
 "nbformat_minor": 5
}
