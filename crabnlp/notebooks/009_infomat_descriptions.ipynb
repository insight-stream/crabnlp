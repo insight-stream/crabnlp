{
 "cells": [
  {
   "cell_type": "code",
   "execution_count": 1,
   "id": "004eea6f-3033-448b-8f11-0b7d4b58e751",
   "metadata": {},
   "outputs": [],
   "source": [
    "from crabnlp.tg import *\n",
    "from crabnlp.commons import get_json_logger\n"
   ]
  },
  {
   "cell_type": "code",
   "execution_count": 2,
   "id": "d8d04127-2189-4723-929c-8cf501a40c13",
   "metadata": {},
   "outputs": [],
   "source": [
    "TELEGRAM_TOKEN = os.environ['INFOMAT_RU']\n",
    "LOGS_DIR = '/mnt/storage/logs/infomat'\n"
   ]
  },
  {
   "cell_type": "code",
   "execution_count": 1,
   "id": "bd5e69c1-0924-4b87-bca9-aac053eb3792",
   "metadata": {},
   "outputs": [
    {
     "name": "stdout",
     "output_type": "stream",
     "text": [
      "Collecting python-json-logger\n",
      "  Downloading python_json_logger-2.0.7-py3-none-any.whl (8.1 kB)\n",
      "Installing collected packages: python-json-logger\n",
      "Successfully installed python-json-logger-2.0.7\n"
     ]
    }
   ],
   "source": [
    "# import sys\n",
    "# !{sys.executable} -m pip install python-json-logger"
   ]
  },
  {
   "cell_type": "code",
   "execution_count": null,
   "id": "3b1a9bf5-61b3-4f1b-a295-6cc455983d6f",
   "metadata": {},
   "outputs": [],
   "source": [
    "tg = Telegram(TELEGRAM_TOKEN, LOGS_DIR)\n"
   ]
  },
  {
   "cell_type": "code",
   "execution_count": 8,
   "id": "ca6e6172-02a3-49eb-ab1d-4c3d37d5d6b1",
   "metadata": {},
   "outputs": [],
   "source": [
    "ru_description = \"\"\"Узнайте все интересное из YouTube видео просто спросив у 🤖.\n",
    "\n",
    "Отправьте ссылку на YouTube видео и дальше задайте ваш вопрос.\n",
    "\n",
    "Например, на видео \"Master your breathing\" вы можете спросить:\n",
    "💬 Почему нужно учиться дышать?\n",
    "💬 Выпиши все исследования, которые проводились, чтобы проверить дыхательные методики\n",
    "\n",
    "Или просто посмотрите краткое резюме.\n",
    "\n",
    "Присоединяйтесь к нашей группе поддержки на сайте https://t.me/infomat_community.\"\"\"\n",
    "\n",
    "en_description = \"\"\"Find out everything interesting from YouTube videos just by asking the 🤖.\n",
    "\n",
    "Begin by sending a link to a YouTube video and then posing your query.\n",
    "\n",
    "For instance, on the \"Master your breathing\" video, you could ask:\n",
    "💬 What is the importance of learning how to breathe?\n",
    "💬 Can you list all the research studies conducted to evaluate breathing methods?\n",
    "\n",
    "Or see a short summary.\n",
    "\n",
    "Join our Support Group at https://t.me/infomat_community.\"\"\"\n",
    "\n",
    "ru_short_description = \"\"\"Краткое содержание и обсуждение видеороликов YouTube с помощью искусственного интеллекта\"\"\"\n",
    "en_short_description = \"\"\"Summarize and discuss YouTube videos with AI\"\"\"\n",
    "\n",
    "await tg.post('setMyShortDescription', language_code='', short_description=en_short_description)\n",
    "await tg.post('setMyDescription', language_code='', description=en_description)\n",
    "\n",
    "await tg.post('setMyShortDescription', language_code='ru', short_description=ru_short_description)\n",
    "await tg.post('setMyDescription', language_code='ru', description=ru_description)"
   ]
  },
  {
   "cell_type": "code",
   "execution_count": 9,
   "id": "38d5a85f-98f9-472d-8e8e-92a36c0dffba",
   "metadata": {},
   "outputs": [],
   "source": [
    "await tg.post('deleteMyCommands')\n",
    "await tg.post('getMyCommands')\n",
    "\n",
    "commands = {\n",
    "    'ru': [{'command': 'balance', 'description': 'Посмотрать и пополнить ваш баланс'},\n",
    "           {'command': 'help', 'description': 'Показать помощь'},\n",
    "           {'command': 'summary', 'description': 'Показать краткое содержание прикрепленного видео'}],\n",
    "    '': [{'command': 'balance', 'description': 'See or top up your balance'},\n",
    "         {'command': 'help', 'description': 'See help message'},\n",
    "         {'command': 'summary', 'description': 'Summarize pinned video'}]\n",
    "}\n",
    "\n",
    "for lang in commands:\n",
    "    await tg.post('setMyCommands', language_code=lang, commands=commands[lang])\n"
   ]
  }
 ],
 "metadata": {
  "kernelspec": {
   "display_name": "Python [conda env:crabnlp]",
   "language": "python",
   "name": "conda-env-crabnlp-py"
  },
  "language_info": {
   "codemirror_mode": {
    "name": "ipython",
    "version": 3
   },
   "file_extension": ".py",
   "mimetype": "text/x-python",
   "name": "python",
   "nbconvert_exporter": "python",
   "pygments_lexer": "ipython3",
   "version": "3.11.0"
  }
 },
 "nbformat": 4,
 "nbformat_minor": 5
}
