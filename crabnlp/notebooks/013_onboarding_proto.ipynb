{
 "cells": [
  {
   "cell_type": "code",
   "execution_count": 9,
   "id": "37dbf57c-be0a-4465-8de9-0c6263ae3112",
   "metadata": {},
   "outputs": [],
   "source": [
    "import os\n",
    "\n",
    "from crabnlp.tg import Telegram\n",
    "import dbm\n",
    "import re"
   ]
  },
  {
   "cell_type": "code",
   "execution_count": 2,
   "id": "44ff01ea-9543-4cf1-a778-e4a28c67ba93",
   "metadata": {},
   "outputs": [],
   "source": [
    "tg = Telegram(os.environ['TRANSCRABER_DEV'], '/tmp')"
   ]
  },
  {
   "cell_type": "code",
   "execution_count": 25,
   "id": "51b02897-9a57-430e-adea-578bc81bce6c",
   "metadata": {},
   "outputs": [],
   "source": [
    "M = 87799679\n",
    "L = 396583724"
   ]
  },
  {
   "cell_type": "code",
   "execution_count": 27,
   "id": "b63a6556-cac9-40b7-96f3-a5cf5bf63d23",
   "metadata": {},
   "outputs": [],
   "source": [
    "await tg.send_message_typing(disable_notification=True, chat_id=M, text='С момента нашего знакомства вы ни разу не задали вопрос по видеоролику. А давайте я вам покажу, как это сделать? Нажмите /start')"
   ]
  },
  {
   "cell_type": "code",
   "execution_count": null,
   "id": "37e535af-ef76-42ac-9bde-712984d01982",
   "metadata": {},
   "outputs": [],
   "source": []
  },
  {
   "cell_type": "code",
   "execution_count": null,
   "id": "7c2638d1-d499-411d-9265-5bb650df8778",
   "metadata": {},
   "outputs": [],
   "source": []
  },
  {
   "cell_type": "code",
   "execution_count": null,
   "id": "2e1d5624-57a8-4d3f-972d-159d9071ee40",
   "metadata": {},
   "outputs": [],
   "source": []
  },
  {
   "cell_type": "code",
   "execution_count": null,
   "id": "a0986a64-8448-4bb2-8147-42906f846595",
   "metadata": {},
   "outputs": [],
   "source": []
  },
  {
   "cell_type": "code",
   "execution_count": null,
   "id": "b02c0ac9-9fcf-4bab-a076-76e0250c0ad2",
   "metadata": {},
   "outputs": [],
   "source": []
  }
 ],
 "metadata": {
  "kernelspec": {
   "display_name": "Python [conda env:crabnlp]",
   "language": "python",
   "name": "conda-env-crabnlp-py"
  },
  "language_info": {
   "codemirror_mode": {
    "name": "ipython",
    "version": 3
   },
   "file_extension": ".py",
   "mimetype": "text/x-python",
   "name": "python",
   "nbconvert_exporter": "python",
   "pygments_lexer": "ipython3",
   "version": "3.11.0"
  }
 },
 "nbformat": 4,
 "nbformat_minor": 5
}
