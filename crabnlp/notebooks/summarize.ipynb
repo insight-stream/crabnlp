{
 "cells": [
  {
   "cell_type": "code",
   "execution_count": 1,
   "id": "b2a9ce83-a5c4-41cb-83ef-41a1af1eeb6a",
   "metadata": {},
   "outputs": [],
   "source": [
    "import os\n",
    "from typing import List\n",
    "import concurrent.futures\n",
    "import asyncio\n",
    "\n",
    "import openai\n",
    "from polyglot.detect import Detector\n",
    "from polyglot.detect.base import UnknownLanguage\n",
    "import tiktoken\n",
    "\n",
    "from crabnlp.llm import tlen, create, acreate_chatcompletion, chunk_a_text"
   ]
  },
  {
   "cell_type": "code",
   "execution_count": 2,
   "id": "7bed8b2d-248c-42ff-a44b-c559278808b8",
   "metadata": {},
   "outputs": [],
   "source": [
    "# # import sys\n",
    "# !{sys.executable} -m pip install deepl"
   ]
  },
  {
   "cell_type": "code",
   "execution_count": 3,
   "id": "64c672ea-fee3-4159-b515-8f1b8546551b",
   "metadata": {},
   "outputs": [],
   "source": [
    "# GPT_MODEL_NAME = \"text-curie-001\"\n",
    "# GPT_MODEL_NAME = \"text-davinci-003\"\n",
    "GPT_MODEL_NAME = \"gpt-3.5-turbo\"\n",
    "GPT_MODEL_MAX_TOKENS = 2049\n",
    "openai.api_key = os.environ['OPENAI']\n",
    "\n",
    "tok = tiktoken.encoding_for_model(GPT_MODEL_NAME)"
   ]
  },
  {
   "cell_type": "code",
   "execution_count": 4,
   "id": "1ec8eb57-6658-4d29-8ea6-0ae8f3de33b1",
   "metadata": {},
   "outputs": [],
   "source": [
    "# from 002_multilang_summarization.ipynb\n",
    "\n",
    "PROMPT_SUMMARY = {\n",
    "    'en': 'Summarize the text',\n",
    "    'bg': 'Обобщаване на текста',\n",
    "    'cs': 'Shrnutí textu',\n",
    "    'da': 'Sammenfatning af teksten',\n",
    "    'de': 'Fassen Sie den Text zusammen',\n",
    "    'el': 'Συνοψίστε το κείμενο',\n",
    "    'es': 'Resumir el texto',\n",
    "    'et': 'Võtke tekst kokku',\n",
    "    'fi': 'Tiivistä teksti',\n",
    "    'fr': 'Résumez le texte',\n",
    "    'hu': 'A szöveg összefoglalása',\n",
    "    'nn': 'Oppsummer teksten',\n",
    "    'it': 'Riassumere il testo',\n",
    "    'ja': '本文を要約する',\n",
    "    'ko': '텍스트 요약',\n",
    "    'lt': 'Apibendrinti tekstą',\n",
    "    'lv': 'Apkopojiet tekstu',\n",
    "    'nl': 'De tekst samenvatten',\n",
    "    'pl': 'Podsumuj tekst',\n",
    "    'pt': 'Resumir o texto',\n",
    "    'ro': 'Rezumați textul',\n",
    "    'ru': 'Резюмируйте текст',\n",
    "    'sk': 'Zhrňte text',\n",
    "    'sl': 'Povzemanje besedila',\n",
    "    'sv': 'Sammanfattning av texten',\n",
    "    'tr': 'Metni özetleyin',\n",
    "    'uk': 'Підсумуйте текст',\n",
    "    'zh': '归纳文本'}"
   ]
  },
  {
   "cell_type": "code",
   "execution_count": 5,
   "id": "d4899ed2-2da5-4520-9e54-ec5920139779",
   "metadata": {},
   "outputs": [],
   "source": []
  },
  {
   "cell_type": "code",
   "execution_count": 15,
   "id": "2711f199-30d0-440c-82a4-0da203bec0cb",
   "metadata": {},
   "outputs": [],
   "source": [
    "def summarize_with_gpt(text, model_name=GPT_MODEL_NAME):\n",
    "    assert text\n",
    "    assert isinstance(text, str)\n",
    "\n",
    "    try:\n",
    "        lang = Detector(text).language.code\n",
    "    except UnknownLanguage as ex:\n",
    "        print(ex)\n",
    "        lang = 'en'\n",
    "\n",
    "    resp = openai.ChatCompletion.create(\n",
    "      model=model_name,\n",
    "      messages=[\n",
    "            {\"role\": \"system\", \"content\": \"\"},\n",
    "            {\"role\": \"user\", \"content\": f\"{text}\\n\\n{PROMPT_SUMMARY.get(lang, 'en')}\"}\n",
    "      ]\n",
    "    )\n",
    "    return resp['choices'][0]['message']['content']\n",
    "\n",
    "\n",
    "async def asummarize_with_gpt(text, model_name=GPT_MODEL_NAME):\n",
    "    assert text\n",
    "    assert isinstance(text, str)\n",
    "\n",
    "    try:\n",
    "        lang = Detector(text).language.code\n",
    "    except UnknownLanguage as ex:\n",
    "        print(ex)\n",
    "        lang = 'en'\n",
    "\n",
    "    resp = await openai.ChatCompletion.acreate(\n",
    "      model=model_name,\n",
    "      messages=[\n",
    "            {\"role\": \"system\", \"content\": \"\"},\n",
    "            {\"role\": \"user\", \"content\": f\"{text}\\n\\n{PROMPT_SUMMARY.get(lang, 'en')}\"}\n",
    "      ]\n",
    "    )\n",
    "    return resp['choices'][0]['message']['content']\n",
    "\n",
    "\n",
    "async def asummarize_with_chatgpt(text, model_name=GPT_MODEL_NAME):\n",
    "    assert text\n",
    "    assert isinstance(text, str)\n",
    "\n",
    "    try:\n",
    "        lang = Detector(text).language.code\n",
    "    except UnknownLanguage as ex:\n",
    "        print(ex)\n",
    "        lang = 'en'\n",
    "\n",
    "    resp = await acreate_chatcompletion(\n",
    "      messages=[\n",
    "            {\"role\": \"system\", \"content\": \"\"},\n",
    "            {\"role\": \"user\", \"content\": f\"{text}\\n\\n{PROMPT_SUMMARY.get(lang, 'en')}\"}\n",
    "      ]\n",
    "    )\n",
    "    return resp['choices'][0]['message']['content'], resp['usage']['total_tokens']\n"
   ]
  },
  {
   "cell_type": "code",
   "execution_count": 16,
   "id": "3cf3e4e3-6900-42af-ab0d-84da16f7a3a2",
   "metadata": {},
   "outputs": [],
   "source": [
    "def summarize_by_chunk(text, chunk_size_in_tokens=2000, max_workers=5):\n",
    "    chunks = list(chunk_a_text(text, chunk_size_in_tokens))\n",
    "    with concurrent.futures.ThreadPoolExecutor(max_workers=max_workers) as executor:\n",
    "        sums = executor.map(summarize_with_gpt, chunks)\n",
    "        return sums"
   ]
  },
  {
   "cell_type": "code",
   "execution_count": 17,
   "id": "928d9b60-3a7a-439e-a56b-c4ec5027b6d0",
   "metadata": {},
   "outputs": [],
   "source": [
    "async def asummarize_by_chunk(text, chunk_size_in_tokens=2000):\n",
    "    chunks = list(chunk_a_text(text, chunk_size_in_tokens))\n",
    "\n",
    "    tasks = []\n",
    "    for c in chunks:\n",
    "        tasks.append(asyncio.create_task(asummarize_with_chatgpt(c)))\n",
    "\n",
    "    result = await asyncio.gather(*tasks)\n",
    "    sums, toks = zip(*result)\n",
    "    return '\\n'.join(s.strip() for s in sums), sum(toks)"
   ]
  },
  {
   "cell_type": "code",
   "execution_count": 18,
   "id": "c87ee6cc-50d7-4a50-8e6f-93e5b782c39c",
   "metadata": {},
   "outputs": [],
   "source": [
    "async def recursive_summarize_with_gpt(text, tries=0, chunk_size_in_tokens=None):\n",
    "    if tries > 5:\n",
    "        raise RuntimeError(\"Summarization error\", f\"Too many attempts. Are you trying to reduce irredubable piece of text? {text=}\")\n",
    "    if chunk_size_in_tokens is None:\n",
    "        chunk_size_in_tokens = GPT_MODEL_MAX_TOKENS - 256 - 10\n",
    "    sums = []\n",
    "    for text in chunk_a_text(text, chunk_size_in_tokens):\n",
    "        sums.append(await asummarize_with_gpt(text))\n",
    "    if len(sums) == 1:\n",
    "        return sums[0]\n",
    "    else:\n",
    "        print(sums)\n",
    "        return await summarize_by_chunk('\\n'.join(sums),\n",
    "                                                  tries=tries+1,\n",
    "                                                  chunk_size_in_tokens=chunk_size_in_tokens)"
   ]
  },
  {
   "cell_type": "code",
   "execution_count": 1,
   "id": "21609084-06c3-4216-af6f-ea3c67611f78",
   "metadata": {},
   "outputs": [],
   "source": [
    "# if __name__ == '__main__':\n",
    "#     from crabnlp.youtube import adownload_captions\n",
    "#     caps = await adownload_captions(\"DwhoDLW2dTM\")\n",
    "#     text = ' '.join(w['text'] for w in caps)\n",
    "#     s, toks = await asummarize_by_chunk(text, chunk_size_in_tokens=3000)\n",
    "#     print(toks, s)\n"
   ]
  },
  {
   "cell_type": "code",
   "execution_count": null,
   "id": "85611d98-389a-43db-8b74-5d1c09a5f0c6",
   "metadata": {},
   "outputs": [],
   "source": []
  }
 ],
 "metadata": {
  "kernelspec": {
   "display_name": "Python [conda env:crabnlp]",
   "language": "python",
   "name": "conda-env-crabnlp-py"
  },
  "language_info": {
   "codemirror_mode": {
    "name": "ipython",
    "version": 3
   },
   "file_extension": ".py",
   "mimetype": "text/x-python",
   "name": "python",
   "nbconvert_exporter": "python",
   "pygments_lexer": "ipython3",
   "version": "3.11.2"
  },
  "vscode": {
   "interpreter": {
    "hash": "916dbcbb3f70747c44a77c7bcd40155683ae19c65e1c03b4aa3499c5328201f1"
   }
  }
 },
 "nbformat": 4,
 "nbformat_minor": 5
}
