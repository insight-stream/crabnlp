{
 "cells": [
  {
   "cell_type": "markdown",
   "id": "49b9c3ea-07e8-4507-9787-71ff54e20c92",
   "metadata": {},
   "source": [
    "# Пример того, как собирать деньги с помощью Payments"
   ]
  },
  {
   "cell_type": "code",
   "execution_count": 1,
   "id": "7908aa9b-6a63-497c-92f4-84a377c8356b",
   "metadata": {},
   "outputs": [],
   "source": [
    "import os\n",
    "import asyncio\n",
    "import aiohttp\n",
    "from typing import AsyncGenerator, Optional, Tuple\n",
    "import json\n",
    "\n",
    "from tg import send_message, long_pol_messages"
   ]
  },
  {
   "cell_type": "code",
   "execution_count": 6,
   "id": "b28f57b8-132d-4fc1-96b1-ec5f33a57828",
   "metadata": {},
   "outputs": [],
   "source": [
    "async def send_invoice(**kwargs):\n",
    "    url = f'https://api.telegram.org/bot{TELEGRAM_TOKEN}/sendInvoice'\n",
    "    async with aiohttp.ClientSession() as session:\n",
    "        async with session.post(url, json=kwargs) as response:\n",
    "            if response.status!= 200:\n",
    "                raise Exception(f'Failed to send message: {response.status}, {await response.text()}')\n",
    "            else:\n",
    "                return await response.json()\n",
    "\n",
    "\n",
    "async def answer_pre_checkout_query(**kwargs):\n",
    "    url = f'https://api.telegram.org/bot{TELEGRAM_TOKEN}/answerPreCheckoutQuery'\n",
    "    async with aiohttp.ClientSession() as session:\n",
    "        async with session.post(url, json=kwargs) as response:\n",
    "            if response.status!= 200:\n",
    "                raise Exception(f'Failed to send message: {response.status}, {await response.text()}')\n",
    "            else:\n",
    "                return await response.json()"
   ]
  },
  {
   "cell_type": "code",
   "execution_count": null,
   "id": "4a50d9b6-cd80-4d5d-9874-320db48ce937",
   "metadata": {
    "tags": []
   },
   "outputs": [
    {
     "name": "stdout",
     "output_type": "stream",
     "text": [
      "{'update_id': 259828797, 'message': {'message_id': 292, 'from': {'id': 87799679, 'is_bot': False, 'first_name': 'Marat', 'username': 'tsundokum', 'language_code': 'en'}, 'chat': {'id': 87799679, 'first_name': 'Marat', 'username': 'tsundokum', 'type': 'private'}, 'date': 1678524186, 'successful_payment': {'currency': 'RUB', 'total_amount': 50000, 'invoice_payload': '87799679', 'telegram_payment_charge_id': '6045619726_87799679_509649_7209206392798919648', 'provider_payment_charge_id': '2b9e52d9-000f-5000-a000-1048affb60c4'}}}\n",
      "Just received 500.00 RUB\n",
      "{'update_id': 259828798, 'message': {'message_id': 293, 'from': {'id': 87799679, 'is_bot': False, 'first_name': 'Marat', 'username': 'tsundokum', 'language_code': 'en'}, 'chat': {'id': 87799679, 'first_name': 'Marat', 'username': 'tsundokum', 'type': 'private'}, 'date': 1678524394, 'text': 'dtyhdfuhjfg'}}\n",
      "{'update_id': 259828799, 'callback_query': {'id': '377096750973562467', 'from': {'id': 87799679, 'is_bot': False, 'first_name': 'Marat', 'username': 'tsundokum', 'language_code': 'en'}, 'message': {'message_id': 294, 'from': {'id': 6045619726, 'is_bot': True, 'first_name': 'Transcraber DEV', 'username': 'transcraber_dev_bot'}, 'chat': {'id': 87799679, 'first_name': 'Marat', 'username': 'tsundokum', 'type': 'private'}, 'date': 1678524395, 'reply_to_message': {'message_id': 293, 'from': {'id': 87799679, 'is_bot': False, 'first_name': 'Marat', 'username': 'tsundokum', 'language_code': 'en'}, 'chat': {'id': 87799679, 'first_name': 'Marat', 'username': 'tsundokum', 'type': 'private'}, 'date': 1678524394, 'text': 'dtyhdfuhjfg'}, 'text': 'Ответ на ваш запрос dtyhdfuhjfg', 'reply_markup': {'inline_keyboard': [[{'text': 'Поддержать проект', 'callback_data': '{\"type\": \"donate_button\", \"update_id\": -1}'}]]}}, 'chat_instance': '-4362863864751142394', 'data': '{\"type\": \"donate_button\", \"update_id\": -1}'}}\n",
      "r={'ok': True, 'result': {'message_id': 295, 'from': {'id': 6045619726, 'is_bot': True, 'first_name': 'Transcraber DEV', 'username': 'transcraber_dev_bot'}, 'chat': {'id': 87799679, 'first_name': 'Marat', 'username': 'tsundokum', 'type': 'private'}, 'date': 1678524396, 'invoice': {'title': 'Пожертвование', 'description': 'Поддержка проекта', 'start_parameter': '', 'currency': 'RUB', 'total_amount': 50000}, 'reply_markup': {'inline_keyboard': [[{'text': 'Pay 500,00\\xa0RUB', 'pay': True}]]}}}\n",
      "{'update_id': 259828800, 'pre_checkout_query': {'id': '377096751211060898', 'from': {'id': 87799679, 'is_bot': False, 'first_name': 'Marat', 'username': 'tsundokum', 'language_code': 'en'}, 'currency': 'RUB', 'total_amount': 50000, 'invoice_payload': '87799679'}}\n",
      "res_pcq={'ok': True, 'result': True}\n",
      "{'update_id': 259828801, 'message': {'message_id': 296, 'from': {'id': 87799679, 'is_bot': False, 'first_name': 'Marat', 'username': 'tsundokum', 'language_code': 'en'}, 'chat': {'id': 87799679, 'first_name': 'Marat', 'username': 'tsundokum', 'type': 'private'}, 'date': 1678524414, 'successful_payment': {'currency': 'RUB', 'total_amount': 50000, 'invoice_payload': '87799679', 'telegram_payment_charge_id': '6045619726_87799679_509653_7209207390913721716', 'provider_payment_charge_id': '2b9e53bb-000f-5000-8000-1058b15bfb60'}}}\n",
      "Just received 500.00 RUB\n"
     ]
    }
   ],
   "source": [
    "async for update in long_pol_messages():\n",
    "    print(update)\n",
    "    if 'message' in update:\n",
    "        message = update['message']\n",
    "        if 'successful_payment' in message:\n",
    "            # example update\n",
    "            # {'update_id': 259828801, 'message': {'message_id': 296, 'from': {'id': 87799679, 'is_bot': False, 'first_name': 'Marat', 'username': 'tsundokum', 'language_code': 'en'}, 'chat': {'id': 87799679, 'first_name': 'Marat', 'username': 'tsundokum', 'type': 'private'}, 'date': 1678524414, 'successful_payment': {'currency': 'RUB', 'total_amount': 50000, 'invoice_payload': '87799679', 'telegram_payment_charge_id': '6045619726_87799679_509653_7209207390913721716', 'provider_payment_charge_id': '2b9e53bb-000f-5000-8000-1058b15bfb60'}}}\n",
    "            sp = message['successful_payment']\n",
    "            print(f\"Just received {sp['total_amount'] / 100:.2f} {sp['currency']}\")\n",
    "        else:\n",
    "            button = [[{\n",
    "                \"text\": \"Поддержать проект\",\n",
    "                \"callback_data\": json.dumps({'type': 'donate_button',\n",
    "                                             'update_id': message.get('update_id', -1)})\n",
    "            }]]\n",
    "\n",
    "            await send_message(chat_id=message['chat']['id'],\n",
    "                               reply_to_message_id=message['message_id'],\n",
    "                               text=f\"Ответ на ваш запрос {message['text']}\",\n",
    "                               reply_markup={\"inline_keyboard\": button})\n",
    "    elif 'callback_query' in update:\n",
    "        # example update\n",
    "        # {'update_id': 259828799, 'callback_query': {'id': '377096750973562467', 'from': {'id': 87799679, 'is_bot': False, 'first_name': 'Marat', 'username': 'tsundokum', 'language_code': 'en'}, 'message': {'message_id': 294, 'from': {'id': 6045619726, 'is_bot': True, 'first_name': 'Transcraber DEV', 'username': 'transcraber_dev_bot'}, 'chat': {'id': 87799679, 'first_name': 'Marat', 'username': 'tsundokum', 'type': 'private'}, 'date': 1678524395, 'reply_to_message': {'message_id': 293, 'from': {'id': 87799679, 'is_bot': False, 'first_name': 'Marat', 'username': 'tsundokum', 'language_code': 'en'}, 'chat': {'id': 87799679, 'first_name': 'Marat', 'username': 'tsundokum', 'type': 'private'}, 'date': 1678524394, 'text': 'dtyhdfuhjfg'}, 'text': 'Ответ на ваш запрос dtyhdfuhjfg', 'reply_markup': {'inline_keyboard': [[{'text': 'Поддержать проект', 'callback_data': '{\"type\": \"donate_button\", \"update_id\": -1}'}]]}}, 'chat_instance': '-4362863864751142394', 'data': '{\"type\": \"donate_button\", \"update_id\": -1}'}}\n",
    "        cq = update['callback_query']\n",
    "        r = await send_invoice(chat_id=cq['from']['id'], \n",
    "                               title='Пожертвование',\n",
    "                               currency='rub',\n",
    "                               prices=[{'label': 'Поддержка', 'amount': 500 * 100}],\n",
    "                               description=\"Поддержка проекта\",\n",
    "                               payload=f\"{cq['from']['id']}\",\n",
    "                               provider_token=os.environ['YOOKASSA_TEST'])\n",
    "        print(f\"{r=}\")\n",
    "    elif 'pre_checkout_query' in update:\n",
    "        # example update\n",
    "        # {'update_id': 259828800, 'pre_checkout_query': {'id': '377096751211060898', 'from': {'id': 87799679, 'is_bot': False, 'first_name': 'Marat', 'username': 'tsundokum', 'language_code': 'en'}, 'currency': 'RUB', 'total_amount': 50000, 'invoice_payload': '87799679'}}\n",
    "        pcq = update['pre_checkout_query']\n",
    "        res_pcq = await answer_pre_checkout_query(pre_checkout_query_id=pcq['id'], ok=True)\n",
    "        print(f\"{res_pcq=}\")\n"
   ]
  },
  {
   "cell_type": "code",
   "execution_count": null,
   "id": "6c8fc5ed-98cc-4110-9de5-0111d7b15035",
   "metadata": {},
   "outputs": [],
   "source": []
  }
 ],
 "metadata": {
  "kernelspec": {
   "display_name": "Python [conda env:crabnlp]",
   "language": "python",
   "name": "conda-env-crabnlp-py"
  },
  "language_info": {
   "codemirror_mode": {
    "name": "ipython",
    "version": 3
   },
   "file_extension": ".py",
   "mimetype": "text/x-python",
   "name": "python",
   "nbconvert_exporter": "python",
   "pygments_lexer": "ipython3",
   "version": "3.11.0"
  }
 },
 "nbformat": 4,
 "nbformat_minor": 5
}
