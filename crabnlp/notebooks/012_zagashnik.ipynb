{
 "cells": [
  {
   "cell_type": "code",
   "execution_count": null,
   "id": "25091dfd-06f6-48dc-8b26-6896b084a372",
   "metadata": {},
   "outputs": [],
   "source": [
    "def calc_sendable_max_text(text):\n",
    "    \"\"\"Telegrams allows sending text messages no longer than 4096 bytes\n",
    "    The function returns index at which we must split the text in order to fit the limit\n",
    "\n",
    "    Actually this solves the problem when you want to chunk up a text, but you don't know the indexi, because\n",
    "    function that calculates length is complex. So we employ binary-search-like algorithm to split the text\n",
    "    and measure if chunk is of needed size\"\"\"\n",
    "    MAX_LEN = 4096\n",
    "    i = len(text)\n",
    "    L = len(text[:i].encode('utf-8'))\n",
    "    upper_i = i\n",
    "    lower_i = 0\n",
    "    d = upper_i\n",
    "    while d > 100:\n",
    "        L = len(text[:i].encode('utf-8'))\n",
    "        if L > MAX_LEN:\n",
    "            upper_i = i\n",
    "            new_i = i - (upper_i-lower_i) // 2\n",
    "            d = i - new_i\n",
    "        else:\n",
    "            lower_i = i\n",
    "            new_i = (upper_i-lower_i) // 2 + i\n",
    "            d = new_i - i\n",
    "        print(f\"{L=} {upper_i=} {lower_i=} {i} -> {new_i} {d=}\")\n",
    "        i = new_i\n",
    "    return i"
   ]
  }
 ],
 "metadata": {
  "kernelspec": {
   "display_name": "Python [conda env:crabnlp]",
   "language": "python",
   "name": "conda-env-crabnlp-py"
  },
  "language_info": {
   "codemirror_mode": {
    "name": "ipython",
    "version": 3
   },
   "file_extension": ".py",
   "mimetype": "text/x-python",
   "name": "python",
   "nbconvert_exporter": "python",
   "pygments_lexer": "ipython3",
   "version": "3.11.0"
  }
 },
 "nbformat": 4,
 "nbformat_minor": 5
}
