{
 "cells": [
  {
   "cell_type": "code",
   "execution_count": 1,
   "id": "adc4b8a5-2143-437d-8d0f-81b6464fab46",
   "metadata": {},
   "outputs": [],
   "source": [
    "import os\n",
    "from pathlib import Path\n",
    "import re\n",
    "\n",
    "import pandas as pd\n",
    "\n",
    "from crabnlp.youtube import is_youtube, aget_video_title_author, get_yt_id_from_url\n",
    "from crabnlp.tg import Telegram"
   ]
  },
  {
   "cell_type": "code",
   "execution_count": 2,
   "id": "8b8a0374-04d4-4c63-9ae0-f7dc496fb1ad",
   "metadata": {},
   "outputs": [],
   "source": [
    "# import sys\n",
    "# !{sys.executable} -m pip install pandas"
   ]
  },
  {
   "cell_type": "code",
   "execution_count": null,
   "id": "dee16501-c0c4-4cad-9391-5ffc83e44982",
   "metadata": {},
   "outputs": [],
   "source": []
  },
  {
   "cell_type": "code",
   "execution_count": 3,
   "id": "8a83a6b5-6da3-4118-8c10-77a153af1456",
   "metadata": {},
   "outputs": [],
   "source": [
    "LOGS = Path(\"~/Downloads/Telegram Desktop/foo.log.csv\")\n",
    "\n",
    "URL_RE = r\"\"\"(?i)\\b((?:https?:(?:/{1,3}|[a-z0-9%])|[a-z0-9.\\-]+[.](?:com|net|org|edu|gov|mil|aero|asia|biz|cat|coop|info|int|jobs|mobi|museum|name|post|pro|tel|travel|xxx|ac|ad|ae|af|ag|ai|al|am|an|ao|aq|ar|as|at|au|aw|ax|az|ba|bb|bd|be|bf|bg|bh|bi|bj|bm|bn|bo|br|bs|bt|bv|bw|by|bz|ca|cc|cd|cf|cg|ch|ci|ck|cl|cm|cn|co|cr|cs|cu|cv|cx|cy|cz|dd|de|dj|dk|dm|do|dz|ec|ee|eg|eh|er|es|et|eu|fi|fj|fk|fm|fo|fr|ga|gb|gd|ge|gf|gg|gh|gi|gl|gm|gn|gp|gq|gr|gs|gt|gu|gw|gy|hk|hm|hn|hr|ht|hu|id|ie|il|im|in|io|iq|ir|is|it|je|jm|jo|jp|ke|kg|kh|ki|km|kn|kp|kr|kw|ky|kz|la|lb|lc|li|lk|lr|ls|lt|lu|lv|ly|ma|mc|md|me|mg|mh|mk|ml|mm|mn|mo|mp|mq|mr|ms|mt|mu|mv|mw|mx|my|mz|na|nc|ne|nf|ng|ni|nl|no|np|nr|nu|nz|om|pa|pe|pf|pg|ph|pk|pl|pm|pn|pr|ps|pt|pw|py|qa|re|ro|rs|ru|rw|sa|sb|sc|sd|se|sg|sh|si|sj|Ja|sk|sl|sm|sn|so|sr|ss|st|su|sv|sx|sy|sz|tc|td|tf|tg|th|tj|tk|tl|tm|tn|to|tp|tr|tt|tv|tw|tz|ua|ug|uk|us|uy|uz|va|vc|ve|vg|vi|vn|vu|wf|ws|ye|yt|yu|za|zm|zw)/)(?:[^\\s()<>{}\\[\\]]+|\\([^\\s()]*?\\([^\\s()]+\\)[^\\s()]*?\\)|\\([^\\s]+?\\))+(?:\\([^\\s()]*?\\([^\\s()]+\\)[^\\s()]*?\\)|\\([^\\s]+?\\)|[^\\s`!()\\[\\]{};:'\".,<>?«»“”‘’])|(?:(?<!@)[a-z0-9]+(?:[.\\-][a-z0-9]+)*[.](?:com|net|org|edu|gov|mil|aero|asia|biz|cat|coop|info|int|jobs|mobi|museum|name|post|pro|tel|travel|xxx|ac|ad|ae|af|ag|ai|al|am|an|ao|aq|ar|as|at|au|aw|ax|az|ba|bb|bd|be|bf|bg|bh|bi|bj|bm|bn|bo|br|bs|bt|bv|bw|by|bz|ca|cc|cd|cf|cg|ch|ci|ck|cl|cm|cn|co|cr|cs|cu|cv|cx|cy|cz|dd|de|dj|dk|dm|do|dz|ec|ee|eg|eh|er|es|et|eu|fi|fj|fk|fm|fo|fr|ga|gb|gd|ge|gf|gg|gh|gi|gl|gm|gn|gp|gq|gr|gs|gt|gu|gw|gy|hk|hm|hn|hr|ht|hu|id|ie|il|im|in|io|iq|ir|is|it|je|jm|jo|jp|ke|kg|kh|ki|km|kn|kp|kr|kw|ky|kz|la|lb|lc|li|lk|lr|ls|lt|lu|lv|ly|ma|mc|md|me|mg|mh|mk|ml|mm|mn|mo|mp|mq|mr|ms|mt|mu|mv|mw|mx|my|mz|na|nc|ne|nf|ng|ni|nl|no|np|nr|nu|nz|om|pa|pe|pf|pg|ph|pk|pl|pm|pn|pr|ps|pt|pw|py|qa|re|ro|rs|ru|rw|sa|sb|sc|sd|se|sg|sh|si|sj|Ja|sk|sl|sm|sn|so|sr|ss|st|su|sv|sx|sy|sz|tc|td|tf|tg|th|tj|tk|tl|tm|tn|to|tp|tr|tt|tv|tw|tz|ua|ug|uk|us|uy|uz|va|vc|ve|vg|vi|vn|vu|wf|ws|ye|yt|yu|za|zm|zw)\\b/?(?!@)))\"\"\""
   ]
  },
  {
   "cell_type": "code",
   "execution_count": 4,
   "id": "2f05da61-1151-4868-bf7d-d7228347067c",
   "metadata": {},
   "outputs": [],
   "source": [
    "tg = Telegram(os.environ['TRANSCRABER'], '/tmp')"
   ]
  },
  {
   "cell_type": "code",
   "execution_count": 5,
   "id": "bf1e442c-ef46-4b15-b178-842db2601bc0",
   "metadata": {},
   "outputs": [],
   "source": [
    "data = pd.read_csv(LOGS)"
   ]
  },
  {
   "cell_type": "code",
   "execution_count": 6,
   "id": "3ba43444-8a89-4fa8-a5af-9184c56e9ae1",
   "metadata": {},
   "outputs": [],
   "source": [
    "yt = data.query(\"type == 'video/youtube'\")"
   ]
  },
  {
   "cell_type": "code",
   "execution_count": 7,
   "id": "c2c1f067-2c89-4d48-88e7-af1baab8c110",
   "metadata": {},
   "outputs": [],
   "source": [
    "metas = {}"
   ]
  },
  {
   "cell_type": "code",
   "execution_count": 8,
   "id": "f837cf3f-93d1-42b8-8f7d-306bfd6c7579",
   "metadata": {
    "tags": []
   },
   "outputs": [],
   "source": [
    "# used_in_private = set()\n",
    "# showed = set()\n",
    "# for r in yt.sort_values(['user', 'date']).itertuples():\n",
    "#     urls = re.findall(URL_RE, r.text)\n",
    "#     assert len(urls) == 1\n",
    "#     v = get_yt_id_from_url(urls[0])\n",
    "#     if v in {\"A2--zFz2pSI\", \"Xas37vZGODM\"}:\n",
    "#         m = {'title': \"XXX\"}\n",
    "#     elif not (m := metas.get(v)):\n",
    "#         m = await aget_video_title_author(v)\n",
    "#         metas[v] = m\n",
    "#     if r.chat_type == 'private':\n",
    "#         used_in_private.add(r.from_id)\n",
    "#     if v not in showed:\n",
    "#         print(f'{r.user} {r.chat_type} {v} \"{m[\"title\"]}\" by {m.get(\"author_name\", \"\")}')\n",
    "#         showed.add(v)\n",
    "\n",
    "# # used_in_private = {405632,\n",
    "# #  29733467,\n",
    "# #  71537858,\n",
    "# #  100423786,\n",
    "# #  116486112,\n",
    "# #  133198183,\n",
    "# #  170568626,\n",
    "# #  216336906,\n",
    "# #  234421597,\n",
    "# #  238101355,\n",
    "# #  263725632,\n",
    "# #  291560340,\n",
    "# #  346294048,\n",
    "# #  376823100,\n",
    "# #  448169648}"
   ]
  },
  {
   "cell_type": "code",
   "execution_count": 9,
   "id": "3b7602b3-88f4-4553-b6a4-f0c7e97e2a13",
   "metadata": {
    "tags": []
   },
   "outputs": [],
   "source": [
    "# t = \"\"\"Привет! Вы пользовались функцией резюмирования по YouTube. Я скоро разучусь это делать, чтобы сосредоточиться на функциях транскрибирования.\n",
    "\n",
    "# Однако есть дружеский бот от моих создателей @my_infomat_bot , который специализируется на том, чтобы резюмировать и отвечать на вопросы по youtube видео на вашем языке. \n",
    "\n",
    "# Воспринимайте того бота как ассистента, который может за вас посмотреть видео, кратко рассказать затронутые темы и ответить на ваши вопросы. Значительно сэкономит ваше время.\"\"\"\n",
    "# for c in used_in_private:\n",
    "#     print(f\"Sending to {c}\")\n",
    "#     r = await tg.send_message(fail_on_error=False, chat_id=c,\n",
    "#                                   text=t)\n",
    "#     print(r)\n",
    "#     print()\n",
    "    "
   ]
  },
  {
   "cell_type": "code",
   "execution_count": 44,
   "id": "2fafab31-0b09-437f-b3c2-c3e1a69782f3",
   "metadata": {},
   "outputs": [],
   "source": [
    "m = \"\"\"Привет! Представляю вам своего друга-робота @my_infomat_bot , который посмотрит за вас YouTube-видео, а затем расскажет краткое резюме и ответит на ваши вопросы.\n",
    "\n",
    "- Узнайте заранее, о чем видеоролик, с помощью краткого резюме.\n",
    "- Больше не тратьте время на кликбейтовые видеоролики, просто попросите у бота спойлер.\n",
    "- Смотрите только интересные части видео благодаря таймкодам.\n",
    "\n",
    "Примеры запросов:\n",
    "- выпиши все советы\n",
    "- выпиши все, что сказано про X\n",
    "- в чем суть видео\n",
    "- что автор думает про Y\n",
    "\n",
    "Кликайте @my_infomat_bot\n",
    "и цените свое время ❤️\n",
    "\"\"\""
   ]
  },
  {
   "cell_type": "code",
   "execution_count": 20,
   "id": "92b7fa6e-1868-4a7a-86df-5b249be086f0",
   "metadata": {},
   "outputs": [
    {
     "name": "stdout",
     "output_type": "stream",
     "text": [
      "Sending to chat_id=-1001624069564 {'ok': True, 'result': {'message_id': 691, 'from': {'id': 5511182653, 'is_bot': True, 'first_name': 'Transcraber (beta testing)', 'username': 'transcraber_bot'}, 'chat': {'id': -1001624069564, 'title': 'Дом 2', 'type': 'supergroup'}, 'date': 1679582996, 'text': 'Привет! Представляю вам своего друга-робота @my_infomat_bot , который посмотрит за вас YouTube-видео, а затем расскажется краткое резюме и ответит на ваши вопросы.\\n\\n- Узнайте заранее о чем видеоролик с помощью краткого резюме.\\n- Больше не тратьте время на кликбейтовые видеоролики, просто попросите у бота спойлер.\\n- Смотрите только интересные части видео благодаря таймкодам.\\n\\nПримеры запросов:\\n- выпиши все советы\\n- выпиши все, что сказано про X\\n- в чем суть видео\\n- что автор думаеть про Y\\n- и т.п.\\n\\nКликайте @my_infomat_bot\\n\\nи цените свое время ❤️', 'entities': [{'offset': 44, 'length': 15, 'type': 'mention'}, {'offset': 512, 'length': 15, 'type': 'mention'}]}}\n",
      "\n",
      "Sending to chat_id=-1001140535257 {'ok': True, 'result': {'message_id': 26510, 'from': {'id': 5511182653, 'is_bot': True, 'first_name': 'Transcraber (beta testing)', 'username': 'transcraber_bot'}, 'chat': {'id': -1001140535257, 'title': 'КриптоОдноклассники', 'type': 'supergroup'}, 'date': 1679582997, 'text': 'Привет! Представляю вам своего друга-робота @my_infomat_bot , который посмотрит за вас YouTube-видео, а затем расскажется краткое резюме и ответит на ваши вопросы.\\n\\n- Узнайте заранее о чем видеоролик с помощью краткого резюме.\\n- Больше не тратьте время на кликбейтовые видеоролики, просто попросите у бота спойлер.\\n- Смотрите только интересные части видео благодаря таймкодам.\\n\\nПримеры запросов:\\n- выпиши все советы\\n- выпиши все, что сказано про X\\n- в чем суть видео\\n- что автор думаеть про Y\\n- и т.п.\\n\\nКликайте @my_infomat_bot\\n\\nи цените свое время ❤️', 'entities': [{'offset': 44, 'length': 15, 'type': 'mention'}, {'offset': 512, 'length': 15, 'type': 'mention'}]}}\n",
      "\n",
      "Sending to chat_id=-1001812133848 {'ok': True, 'result': {'message_id': 333, 'from': {'id': 5511182653, 'is_bot': True, 'first_name': 'Transcraber (beta testing)', 'username': 'transcraber_bot'}, 'chat': {'id': -1001812133848, 'title': 'Artificial Brain Storm', 'type': 'supergroup'}, 'date': 1679582999, 'text': 'Привет! Представляю вам своего друга-робота @my_infomat_bot , который посмотрит за вас YouTube-видео, а затем расскажется краткое резюме и ответит на ваши вопросы.\\n\\n- Узнайте заранее о чем видеоролик с помощью краткого резюме.\\n- Больше не тратьте время на кликбейтовые видеоролики, просто попросите у бота спойлер.\\n- Смотрите только интересные части видео благодаря таймкодам.\\n\\nПримеры запросов:\\n- выпиши все советы\\n- выпиши все, что сказано про X\\n- в чем суть видео\\n- что автор думаеть про Y\\n- и т.п.\\n\\nКликайте @my_infomat_bot\\n\\nи цените свое время ❤️', 'entities': [{'offset': 44, 'length': 15, 'type': 'mention'}, {'offset': 512, 'length': 15, 'type': 'mention'}]}}\n",
      "\n",
      "Sending to chat_id=-46479975 {'ok': True, 'result': {'message_id': 4206, 'from': {'id': 5511182653, 'is_bot': True, 'first_name': 'Transcraber (beta testing)', 'username': 'transcraber_bot'}, 'chat': {'id': -46479975, 'title': 'Ирина Пристром', 'type': 'group', 'all_members_are_administrators': True}, 'date': 1679583000, 'text': 'Привет! Представляю вам своего друга-робота @my_infomat_bot , который посмотрит за вас YouTube-видео, а затем расскажется краткое резюме и ответит на ваши вопросы.\\n\\n- Узнайте заранее о чем видеоролик с помощью краткого резюме.\\n- Больше не тратьте время на кликбейтовые видеоролики, просто попросите у бота спойлер.\\n- Смотрите только интересные части видео благодаря таймкодам.\\n\\nПримеры запросов:\\n- выпиши все советы\\n- выпиши все, что сказано про X\\n- в чем суть видео\\n- что автор думаеть про Y\\n- и т.п.\\n\\nКликайте @my_infomat_bot\\n\\nи цените свое время ❤️', 'entities': [{'offset': 44, 'length': 15, 'type': 'mention'}, {'offset': 512, 'length': 15, 'type': 'mention'}]}}\n",
      "\n",
      "Sending to chat_id=-1001934272577 {'ok': True, 'result': {'message_id': 8, 'from': {'id': 5511182653, 'is_bot': True, 'first_name': 'Transcraber (beta testing)', 'username': 'transcraber_bot'}, 'chat': {'id': -1001934272577, 'title': 'Общие вопросы', 'type': 'supergroup'}, 'date': 1679583001, 'text': 'Привет! Представляю вам своего друга-робота @my_infomat_bot , который посмотрит за вас YouTube-видео, а затем расскажется краткое резюме и ответит на ваши вопросы.\\n\\n- Узнайте заранее о чем видеоролик с помощью краткого резюме.\\n- Больше не тратьте время на кликбейтовые видеоролики, просто попросите у бота спойлер.\\n- Смотрите только интересные части видео благодаря таймкодам.\\n\\nПримеры запросов:\\n- выпиши все советы\\n- выпиши все, что сказано про X\\n- в чем суть видео\\n- что автор думаеть про Y\\n- и т.п.\\n\\nКликайте @my_infomat_bot\\n\\nи цените свое время ❤️', 'entities': [{'offset': 44, 'length': 15, 'type': 'mention'}, {'offset': 512, 'length': 15, 'type': 'mention'}]}}\n",
      "\n",
      "Sending to chat_id=-1001768192559 {'ok': True, 'result': {'message_id': 1082, 'from': {'id': 5511182653, 'is_bot': True, 'first_name': 'Transcraber (beta testing)', 'username': 'transcraber_bot'}, 'chat': {'id': -1001768192559, 'title': 'Полит уголок', 'type': 'supergroup'}, 'date': 1679583003, 'text': 'Привет! Представляю вам своего друга-робота @my_infomat_bot , который посмотрит за вас YouTube-видео, а затем расскажется краткое резюме и ответит на ваши вопросы.\\n\\n- Узнайте заранее о чем видеоролик с помощью краткого резюме.\\n- Больше не тратьте время на кликбейтовые видеоролики, просто попросите у бота спойлер.\\n- Смотрите только интересные части видео благодаря таймкодам.\\n\\nПримеры запросов:\\n- выпиши все советы\\n- выпиши все, что сказано про X\\n- в чем суть видео\\n- что автор думаеть про Y\\n- и т.п.\\n\\nКликайте @my_infomat_bot\\n\\nи цените свое время ❤️', 'entities': [{'offset': 44, 'length': 15, 'type': 'mention'}, {'offset': 512, 'length': 15, 'type': 'mention'}]}}\n",
      "\n",
      "Sending to chat_id=-1001875486639 {'ok': True, 'result': {'message_id': 30, 'from': {'id': 5511182653, 'is_bot': True, 'first_name': 'Transcraber (beta testing)', 'username': 'transcraber_bot'}, 'chat': {'id': -1001875486639, 'title': 'Клуб любителей денег', 'type': 'supergroup'}, 'date': 1679583004, 'text': 'Привет! Представляю вам своего друга-робота @my_infomat_bot , который посмотрит за вас YouTube-видео, а затем расскажется краткое резюме и ответит на ваши вопросы.\\n\\n- Узнайте заранее о чем видеоролик с помощью краткого резюме.\\n- Больше не тратьте время на кликбейтовые видеоролики, просто попросите у бота спойлер.\\n- Смотрите только интересные части видео благодаря таймкодам.\\n\\nПримеры запросов:\\n- выпиши все советы\\n- выпиши все, что сказано про X\\n- в чем суть видео\\n- что автор думаеть про Y\\n- и т.п.\\n\\nКликайте @my_infomat_bot\\n\\nи цените свое время ❤️', 'entities': [{'offset': 44, 'length': 15, 'type': 'mention'}, {'offset': 512, 'length': 15, 'type': 'mention'}]}}\n",
      "\n",
      "Sending to chat_id=-1001824667468 {'ok': True, 'result': {'message_id': 1522, 'from': {'id': 5511182653, 'is_bot': True, 'first_name': 'Transcraber (beta testing)', 'username': 'transcraber_bot'}, 'chat': {'id': -1001824667468, 'title': 'Карапузы', 'type': 'supergroup'}, 'date': 1679583006, 'text': 'Привет! Представляю вам своего друга-робота @my_infomat_bot , который посмотрит за вас YouTube-видео, а затем расскажется краткое резюме и ответит на ваши вопросы.\\n\\n- Узнайте заранее о чем видеоролик с помощью краткого резюме.\\n- Больше не тратьте время на кликбейтовые видеоролики, просто попросите у бота спойлер.\\n- Смотрите только интересные части видео благодаря таймкодам.\\n\\nПримеры запросов:\\n- выпиши все советы\\n- выпиши все, что сказано про X\\n- в чем суть видео\\n- что автор думаеть про Y\\n- и т.п.\\n\\nКликайте @my_infomat_bot\\n\\nи цените свое время ❤️', 'entities': [{'offset': 44, 'length': 15, 'type': 'mention'}, {'offset': 512, 'length': 15, 'type': 'mention'}]}}\n",
      "\n",
      "Sending to chat_id=-1001469280290 {'ok': True, 'result': {'message_id': 7986, 'from': {'id': 5511182653, 'is_bot': True, 'first_name': 'Transcraber (beta testing)', 'username': 'transcraber_bot'}, 'chat': {'id': -1001469280290, 'title': 'I and my niggaz!', 'type': 'supergroup'}, 'date': 1679583007, 'text': 'Привет! Представляю вам своего друга-робота @my_infomat_bot , который посмотрит за вас YouTube-видео, а затем расскажется краткое резюме и ответит на ваши вопросы.\\n\\n- Узнайте заранее о чем видеоролик с помощью краткого резюме.\\n- Больше не тратьте время на кликбейтовые видеоролики, просто попросите у бота спойлер.\\n- Смотрите только интересные части видео благодаря таймкодам.\\n\\nПримеры запросов:\\n- выпиши все советы\\n- выпиши все, что сказано про X\\n- в чем суть видео\\n- что автор думаеть про Y\\n- и т.п.\\n\\nКликайте @my_infomat_bot\\n\\nи цените свое время ❤️', 'entities': [{'offset': 44, 'length': 15, 'type': 'mention'}, {'offset': 512, 'length': 15, 'type': 'mention'}]}}\n",
      "\n",
      "Sending to chat_id=-939296170 {'ok': True, 'result': {'message_id': 4207, 'from': {'id': 5511182653, 'is_bot': True, 'first_name': 'Transcraber (beta testing)', 'username': 'transcraber_bot'}, 'chat': {'id': -939296170, 'title': 'ИП Петров', 'type': 'group', 'all_members_are_administrators': True}, 'date': 1679583008, 'text': 'Привет! Представляю вам своего друга-робота @my_infomat_bot , который посмотрит за вас YouTube-видео, а затем расскажется краткое резюме и ответит на ваши вопросы.\\n\\n- Узнайте заранее о чем видеоролик с помощью краткого резюме.\\n- Больше не тратьте время на кликбейтовые видеоролики, просто попросите у бота спойлер.\\n- Смотрите только интересные части видео благодаря таймкодам.\\n\\nПримеры запросов:\\n- выпиши все советы\\n- выпиши все, что сказано про X\\n- в чем суть видео\\n- что автор думаеть про Y\\n- и т.п.\\n\\nКликайте @my_infomat_bot\\n\\nи цените свое время ❤️', 'entities': [{'offset': 44, 'length': 15, 'type': 'mention'}, {'offset': 512, 'length': 15, 'type': 'mention'}]}}\n",
      "\n",
      "Sending to chat_id=-1001810152136 {'ok': True, 'result': {'message_id': 46, 'from': {'id': 5511182653, 'is_bot': True, 'first_name': 'Transcraber (beta testing)', 'username': 'transcraber_bot'}, 'chat': {'id': -1001810152136, 'title': 'Transcraber Community', 'username': 'transcraber_community', 'type': 'supergroup'}, 'date': 1679583010, 'text': 'Привет! Представляю вам своего друга-робота @my_infomat_bot , который посмотрит за вас YouTube-видео, а затем расскажется краткое резюме и ответит на ваши вопросы.\\n\\n- Узнайте заранее о чем видеоролик с помощью краткого резюме.\\n- Больше не тратьте время на кликбейтовые видеоролики, просто попросите у бота спойлер.\\n- Смотрите только интересные части видео благодаря таймкодам.\\n\\nПримеры запросов:\\n- выпиши все советы\\n- выпиши все, что сказано про X\\n- в чем суть видео\\n- что автор думаеть про Y\\n- и т.п.\\n\\nКликайте @my_infomat_bot\\n\\nи цените свое время ❤️', 'entities': [{'offset': 44, 'length': 15, 'type': 'mention'}, {'offset': 512, 'length': 15, 'type': 'mention'}]}}\n",
      "\n",
      "Sending to chat_id=-781295463 {'ok': True, 'result': {'message_id': 4208, 'from': {'id': 5511182653, 'is_bot': True, 'first_name': 'Transcraber (beta testing)', 'username': 'transcraber_bot'}, 'chat': {'id': -781295463, 'title': 'мои заи', 'type': 'group', 'all_members_are_administrators': True}, 'date': 1679583011, 'text': 'Привет! Представляю вам своего друга-робота @my_infomat_bot , который посмотрит за вас YouTube-видео, а затем расскажется краткое резюме и ответит на ваши вопросы.\\n\\n- Узнайте заранее о чем видеоролик с помощью краткого резюме.\\n- Больше не тратьте время на кликбейтовые видеоролики, просто попросите у бота спойлер.\\n- Смотрите только интересные части видео благодаря таймкодам.\\n\\nПримеры запросов:\\n- выпиши все советы\\n- выпиши все, что сказано про X\\n- в чем суть видео\\n- что автор думаеть про Y\\n- и т.п.\\n\\nКликайте @my_infomat_bot\\n\\nи цените свое время ❤️', 'entities': [{'offset': 44, 'length': 15, 'type': 'mention'}, {'offset': 512, 'length': 15, 'type': 'mention'}]}}\n",
      "\n",
      "Sending to chat_id=-189367588 {'ok': True, 'result': {'message_id': 4209, 'from': {'id': 5511182653, 'is_bot': True, 'first_name': 'Transcraber (beta testing)', 'username': 'transcraber_bot'}, 'chat': {'id': -189367588, 'title': 'ТелеГикчат', 'type': 'group', 'all_members_are_administrators': True}, 'date': 1679583012, 'text': 'Привет! Представляю вам своего друга-робота @my_infomat_bot , который посмотрит за вас YouTube-видео, а затем расскажется краткое резюме и ответит на ваши вопросы.\\n\\n- Узнайте заранее о чем видеоролик с помощью краткого резюме.\\n- Больше не тратьте время на кликбейтовые видеоролики, просто попросите у бота спойлер.\\n- Смотрите только интересные части видео благодаря таймкодам.\\n\\nПримеры запросов:\\n- выпиши все советы\\n- выпиши все, что сказано про X\\n- в чем суть видео\\n- что автор думаеть про Y\\n- и т.п.\\n\\nКликайте @my_infomat_bot\\n\\nи цените свое время ❤️', 'entities': [{'offset': 44, 'length': 15, 'type': 'mention'}, {'offset': 512, 'length': 15, 'type': 'mention'}]}}\n",
      "\n",
      "Sending to chat_id=-1001202731107 {'ok': True, 'result': {'message_id': 4195, 'from': {'id': 5511182653, 'is_bot': True, 'first_name': 'Transcraber (beta testing)', 'username': 'transcraber_bot'}, 'chat': {'id': -1001202731107, 'title': '[TPT] Clients Q&A', 'type': 'supergroup'}, 'date': 1679583014, 'text': 'Привет! Представляю вам своего друга-робота @my_infomat_bot , который посмотрит за вас YouTube-видео, а затем расскажется краткое резюме и ответит на ваши вопросы.\\n\\n- Узнайте заранее о чем видеоролик с помощью краткого резюме.\\n- Больше не тратьте время на кликбейтовые видеоролики, просто попросите у бота спойлер.\\n- Смотрите только интересные части видео благодаря таймкодам.\\n\\nПримеры запросов:\\n- выпиши все советы\\n- выпиши все, что сказано про X\\n- в чем суть видео\\n- что автор думаеть про Y\\n- и т.п.\\n\\nКликайте @my_infomat_bot\\n\\nи цените свое время ❤️', 'entities': [{'offset': 44, 'length': 15, 'type': 'mention'}, {'offset': 512, 'length': 15, 'type': 'mention'}]}}\n",
      "\n",
      "Sending to chat_id=-1001670301890 {'ok': True, 'result': {'message_id': 20377, 'from': {'id': 5511182653, 'is_bot': True, 'first_name': 'Transcraber (beta testing)', 'username': 'transcraber_bot'}, 'chat': {'id': -1001670301890, 'title': 'Flock zhiza (-20)', 'type': 'supergroup'}, 'date': 1679583015, 'text': 'Привет! Представляю вам своего друга-робота @my_infomat_bot , который посмотрит за вас YouTube-видео, а затем расскажется краткое резюме и ответит на ваши вопросы.\\n\\n- Узнайте заранее о чем видеоролик с помощью краткого резюме.\\n- Больше не тратьте время на кликбейтовые видеоролики, просто попросите у бота спойлер.\\n- Смотрите только интересные части видео благодаря таймкодам.\\n\\nПримеры запросов:\\n- выпиши все советы\\n- выпиши все, что сказано про X\\n- в чем суть видео\\n- что автор думаеть про Y\\n- и т.п.\\n\\nКликайте @my_infomat_bot\\n\\nи цените свое время ❤️', 'entities': [{'offset': 44, 'length': 15, 'type': 'mention'}, {'offset': 512, 'length': 15, 'type': 'mention'}]}}\n",
      "\n",
      "Sending to chat_id=-1001628083009 {'ok': True, 'result': {'message_id': 1369, 'from': {'id': 5511182653, 'is_bot': True, 'first_name': 'Transcraber (beta testing)', 'username': 'transcraber_bot'}, 'chat': {'id': -1001628083009, 'title': 'Василеостровский Чятик', 'type': 'supergroup'}, 'date': 1679583016, 'text': 'Привет! Представляю вам своего друга-робота @my_infomat_bot , который посмотрит за вас YouTube-видео, а затем расскажется краткое резюме и ответит на ваши вопросы.\\n\\n- Узнайте заранее о чем видеоролик с помощью краткого резюме.\\n- Больше не тратьте время на кликбейтовые видеоролики, просто попросите у бота спойлер.\\n- Смотрите только интересные части видео благодаря таймкодам.\\n\\nПримеры запросов:\\n- выпиши все советы\\n- выпиши все, что сказано про X\\n- в чем суть видео\\n- что автор думаеть про Y\\n- и т.п.\\n\\nКликайте @my_infomat_bot\\n\\nи цените свое время ❤️', 'entities': [{'offset': 44, 'length': 15, 'type': 'mention'}, {'offset': 512, 'length': 15, 'type': 'mention'}]}}\n",
      "\n"
     ]
    }
   ],
   "source": [
    "# for chat_id in set(data.query(\"chat_type != 'private'\")['chat_id']):\n",
    "#     print(f\"Sending to chat_id={chat_id}\", end=' ')\n",
    "#     r = await tg.send_message(fail_on_error=False, chat_id=chat_id,\n",
    "#                                   text=m)\n",
    "#     print(r)\n",
    "#     print()\n"
   ]
  },
  {
   "cell_type": "code",
   "execution_count": null,
   "id": "3ca3349b-d4e8-4f96-8a79-0ea0bf4a0dd4",
   "metadata": {},
   "outputs": [],
   "source": []
  }
 ],
 "metadata": {
  "kernelspec": {
   "display_name": "Python [conda env:crabnlp]",
   "language": "python",
   "name": "conda-env-crabnlp-py"
  },
  "language_info": {
   "codemirror_mode": {
    "name": "ipython",
    "version": 3
   },
   "file_extension": ".py",
   "mimetype": "text/x-python",
   "name": "python",
   "nbconvert_exporter": "python",
   "pygments_lexer": "ipython3",
   "version": "3.11.0"
  }
 },
 "nbformat": 4,
 "nbformat_minor": 5
}
