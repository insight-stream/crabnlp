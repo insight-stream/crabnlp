{
 "cells": [
  {
   "cell_type": "code",
   "execution_count": 1,
   "id": "9e2ede6f-6815-4b34-b684-dcd227fe9012",
   "metadata": {},
   "outputs": [],
   "source": [
    "from pathlib import Path\n",
    "from time import time\n",
    "import json\n",
    "from crabnlp.youtube import adownload_captions_and_meta, get_yt_id_from_url"
   ]
  },
  {
   "cell_type": "code",
   "execution_count": null,
   "id": "81589585-4786-435d-814c-d04a325ca924",
   "metadata": {},
   "outputs": [],
   "source": []
  },
  {
   "cell_type": "code",
   "execution_count": 2,
   "id": "3abfeb58-af65-4504-8042-96e0289794c5",
   "metadata": {},
   "outputs": [],
   "source": [
    "STORAGE = Path('/mnt/storage/newsboy/')"
   ]
  },
  {
   "cell_type": "code",
   "execution_count": 3,
   "id": "85975c17-0539-4549-9c4b-4f5a8ca4bcda",
   "metadata": {},
   "outputs": [],
   "source": [
    "import xml.etree.ElementTree as ET\n",
    "from html import unescape\n",
    "from urllib.parse import urlparse, parse_qs, urlencode\n",
    "from http.client import IncompleteRead\n",
    "from time import sleep\n",
    "import aiohttp\n",
    "import re\n",
    "import asyncio\n",
    "from typing import Generator, List, Tuple\n",
    "\n",
    "from pytube import YouTube\n",
    "\n",
    "from crabnlp.billing import split_by_pages"
   ]
  },
  {
   "cell_type": "code",
   "execution_count": 5,
   "id": "3b6233f0-e99b-411f-a0a9-98ca012bd483",
   "metadata": {},
   "outputs": [],
   "source": [
    "urls = ['https://www.youtube.com/watch?v=Nib47VEPASE',\n",
    " 'https://www.youtube.com/watch?v=cBjzX_0OMMY',\n",
    " 'https://www.youtube.com/watch?v=cBjzX_0OMMY',\n",
    " 'https://www.youtube.com/watch?v=TfG9g647tF0',\n",
    " 'https://www.youtube.com/watch?v=kI23JW1WmJk',\n",
    " 'https://www.youtube.com/watch?v=x-ircquPo7k',\n",
    " 'https://youtu.be/sb5SfOO83YU',\n",
    " 'https://youtu.be/JudPhsy82mo',\n",
    " 'https://www.youtube.com/watch?v=T_3ZMaub3hU',\n",
    " 'https://www.youtube.com/watch?v=0mvRLzr6dwQ',\n",
    " 'https://www.youtube.com/watch?v=zqn9TRky7RA',\n",
    " 'https://youtu.be/f5slLeCz7p8',\n",
    " 'https://www.youtube.com/watch?v=fbLgFrlTnGU',\n",
    " 'https://www.youtube.com/watch?v=fbLgFrlTnGU',\n",
    " 'https://www.youtube.com/watch?v=RKTq5CgsF9I&list=PLzgAtjbcAEqtIGjdC1iLluSj2IH3Ds5I8&index=7&t=1s',\n",
    " 'https://www.youtube.com/watch?v=4-l91GoAjkM',\n",
    " 'https://www.youtube.com/watch?v=os4nckKwGR4&t=12s',\n",
    " 'https://www.youtube.com/watch?v=V1HHvnd22lQ',\n",
    " 'https://www.youtube.com/watch?v=j57Xldwc9VA',\n",
    " 'https://youtu.be/XPACOoa_iXA',\n",
    " 'https://youtu.be/9sD0Gh7prXM',\n",
    " 'https://youtu.be/sP5agpp4tJ4',\n",
    " 'https://youtu.be/Y4loDwSvO84',\n",
    " 'https://youtu.be/gv5pOpYFAv0',\n",
    " 'https://youtu.be/cN5FWHOC_ZA',\n",
    " 'https://youtu.be/JYSX_mAfX5Y',\n",
    " 'https://m.youtube.com/watch?v=7raw8wbBsEc',\n",
    " 'https://www.youtube.com/watch?v=0T2Q0Hu8Bv4',\n",
    " 'https://www.youtube.com/watch?v=91etqbIatsc',\n",
    " 'https://www.youtube.com/watch?v=swtB6UenC5E',\n",
    " 'https://m.youtube.com/watch?v=g0amdIcZt5I',\n",
    " 'https://www.youtube.com/watch?v=hLV5Roa_Bek',\n",
    " 'https://youtu.be/crWsDtlcR_c',\n",
    " 'https://youtu.be/crWsDtlcR_c',\n",
    " 'https://youtu.be/K6t9Cv4Gi8A',\n",
    " 'https://youtu.be/_g9_9hKPyeg',\n",
    " 'https://youtu.be/4GO_lFb1iqo',\n",
    " 'https://www.youtube.com/watch?v=c0WKg0HBhQs',\n",
    " 'https://youtu.be/NNoqZOPyHog',\n",
    " 'https://youtu.be/XClJP83DyIA',\n",
    " 'https://youtu.be/qCR_PmDjlGs',\n",
    " 'https://youtube.com/live/hQYhXDVMwS4?feature=share',\n",
    " 'https://www.youtube.com/live/9IXYdSM-COU?feature=share',\n",
    " 'https://youtu.be/jFC-wIcUgok',\n",
    " 'https://youtu.be/EM_01_t9b0o',\n",
    " 'https://youtu.be/Pr165xd2ctI',\n",
    " 'https://youtu.be/sXsnauXMllQ',\n",
    " 'https://youtu.be/g3bxbji2u_I',\n",
    " 'https://youtu.be/_g9_9hKPyeg',\n",
    " 'https://www.youtube.com/watch?v=WsGG97GOu4I',\n",
    " 'https://youtu.be/PyE3LT0iLSM',\n",
    " 'https://www.youtube.com/watch?v=4eAk7JnqNKs',\n",
    " 'https://m.youtube.com/watch?v=toEMjZB4_Xg',\n",
    " 'https://youtu.be/cgYMtuFa8Iw',\n",
    " 'https://www.youtube.com/watch?v=5qpIbTOkZsI',\n",
    " 'https://www.youtube.com/watch?v=5qpIbTOkZsI',\n",
    " 'https://www.youtube.com/watch?v=zVWS4V5anf8',\n",
    " 'https://youtu.be/t9HRzE7_2Xc',\n",
    " 'https://www.youtube.com/watch?v=6aHo79HsU9g',\n",
    " 'https://www.youtube.com/watch?v=Tk_3bjuK63g',\n",
    " 'https://www.youtube.com/watch?v=djstMcbI7qs',\n",
    " 'https://www.youtube.com/watch?v=vpFqW9ZCBK0',\n",
    " 'https://www.youtube.com/watch?v=b5XZah5bVpk',\n",
    " 'https://youtu.be/pNinYdYpQhM',\n",
    " 'https://youtu.be/nhAE5aimQ3Q',\n",
    " 'https://www.youtube.com/watch?v=L_Guz73e6fw',\n",
    " 'https://youtu.be/L_Guz73e6fw',\n",
    " 'https://youtu.be/Uxlk6FksCZA',\n",
    " 'https://www.youtube.com/watch?v=4DyGbMrPpWU',\n",
    " 'https://youtu.be/fH-7cR46DH8',\n",
    " 'https://www.youtube.com/watch?v=u8nWqavK4MY&list=PL5BwB5wUDXk3nqv5AMNCsq58UOUjon9Rp&index=19',\n",
    " 'https://youtu.be/ypr5OufX-g8',\n",
    " 'https://www.youtube.com/watch?v=u8nWqavK4MY&list=PL5BwB5wUDXk3nqv5AMNCsq58UOUjon9Rp&index=19',\n",
    " 'https://www.youtube.com/watch?v=nLQqyAOFX2c&list=WL&index=1&t=10s',\n",
    " 'https://www.youtube.com/watch?v=nLQqyAOFX2c&list=WL&index=1&t=10s',\n",
    " 'https://www.youtube.com/watch?v=TfD429EdDoI',\n",
    " 'https://youtu.be/kh9Z6ASIGsI',\n",
    " 'https://youtu.be/qVuVEB0HWYA']\n",
    "\n",
    "for i, url in enumerate(urls):\n",
    "    v = get_yt_id_from_url(url)\n",
    "    meta = await adownload_captions_and_meta(v)\n",
    "    meta['captions'] = len(meta.get('captions', []))\n",
    "    print('-'*40, i, '-'*40)\n",
    "    print(meta)\n",
    "    print()"
   ]
  },
  {
   "cell_type": "code",
   "execution_count": 1,
   "id": "f1971154-d0a2-4146-b47e-96a1a2fafb17",
   "metadata": {},
   "outputs": [],
   "source": [
    "import dbm"
   ]
  },
  {
   "cell_type": "code",
   "execution_count": 2,
   "id": "f751ce47-d4b0-45dd-8603-cb13864f782e",
   "metadata": {},
   "outputs": [
    {
     "name": "stdout",
     "output_type": "stream",
     "text": [
      "b'not present'\n"
     ]
    },
    {
     "ename": "TypeError",
     "evalue": "values must be bytes or strings",
     "output_type": "error",
     "traceback": [
      "\u001b[0;31m---------------------------------------------------------------------------\u001b[0m",
      "\u001b[0;31mTypeError\u001b[0m                                 Traceback (most recent call last)",
      "Cell \u001b[0;32mIn[2], line 18\u001b[0m\n\u001b[1;32m     14\u001b[0m \u001b[38;5;28mprint\u001b[39m(db\u001b[38;5;241m.\u001b[39mget(\u001b[38;5;124m'\u001b[39m\u001b[38;5;124mpython.org\u001b[39m\u001b[38;5;124m'\u001b[39m, \u001b[38;5;124mb\u001b[39m\u001b[38;5;124m'\u001b[39m\u001b[38;5;124mnot present\u001b[39m\u001b[38;5;124m'\u001b[39m))\n\u001b[1;32m     16\u001b[0m \u001b[38;5;66;03m# Storing a non-string key or value will raise an exception (most\u001b[39;00m\n\u001b[1;32m     17\u001b[0m \u001b[38;5;66;03m# likely a TypeError).\u001b[39;00m\n\u001b[0;32m---> 18\u001b[0m \u001b[43mdb\u001b[49m\u001b[43m[\u001b[49m\u001b[38;5;124;43m'\u001b[39;49m\u001b[38;5;124;43mwww.yahoo.com\u001b[39;49m\u001b[38;5;124;43m'\u001b[39;49m\u001b[43m]\u001b[49m \u001b[38;5;241m=\u001b[39m \u001b[38;5;241m4\u001b[39m\n",
      "File \u001b[0;32m~/miniconda/envs/jupyter/lib/python3.10/dbm/dumb.py:196\u001b[0m, in \u001b[0;36m_Database.__setitem__\u001b[0;34m(self, key, val)\u001b[0m\n\u001b[1;32m    194\u001b[0m     val \u001b[38;5;241m=\u001b[39m val\u001b[38;5;241m.\u001b[39mencode(\u001b[38;5;124m'\u001b[39m\u001b[38;5;124mutf-8\u001b[39m\u001b[38;5;124m'\u001b[39m)\n\u001b[1;32m    195\u001b[0m \u001b[38;5;28;01melif\u001b[39;00m \u001b[38;5;129;01mnot\u001b[39;00m \u001b[38;5;28misinstance\u001b[39m(val, (\u001b[38;5;28mbytes\u001b[39m, \u001b[38;5;28mbytearray\u001b[39m)):\n\u001b[0;32m--> 196\u001b[0m     \u001b[38;5;28;01mraise\u001b[39;00m \u001b[38;5;167;01mTypeError\u001b[39;00m(\u001b[38;5;124m\"\u001b[39m\u001b[38;5;124mvalues must be bytes or strings\u001b[39m\u001b[38;5;124m\"\u001b[39m)\n\u001b[1;32m    197\u001b[0m \u001b[38;5;28mself\u001b[39m\u001b[38;5;241m.\u001b[39m_verify_open()\n\u001b[1;32m    198\u001b[0m \u001b[38;5;28mself\u001b[39m\u001b[38;5;241m.\u001b[39m_modified \u001b[38;5;241m=\u001b[39m \u001b[38;5;28;01mTrue\u001b[39;00m\n",
      "\u001b[0;31mTypeError\u001b[0m: values must be bytes or strings"
     ]
    }
   ],
   "source": [
    "with dbm.open('cache', 'c') as db:\n",
    "\n",
    "    # Record some values\n",
    "    db[b'hello'] = b'there'\n",
    "    db['www.python.org'] = 'Python Website'\n",
    "    db['www.cnn.com'] = 'Cable News Network'\n",
    "\n",
    "    # Note that the keys are considered bytes now.\n",
    "    assert db[b'www.python.org'] == b'Python Website'\n",
    "    # Notice how the value is now in bytes.\n",
    "    assert db['www.cnn.com'] == b'Cable News Network'\n",
    "\n",
    "    # Often-used methods of the dict interface work too.\n",
    "    print(db.get('python.org', b'not present'))\n",
    "\n",
    "    # Storing a non-string key or value will raise an exception (most\n",
    "    # likely a TypeError).\n",
    "    db['www.yahoo.com'] = 4"
   ]
  },
  {
   "cell_type": "code",
   "execution_count": 9,
   "id": "d4caa734-2ba5-4b85-bc3e-b87db5ec6a1e",
   "metadata": {},
   "outputs": [
    {
     "ename": "KeyError",
     "evalue": "b'hello1'",
     "output_type": "error",
     "traceback": [
      "\u001b[0;31m---------------------------------------------------------------------------\u001b[0m",
      "\u001b[0;31mKeyError\u001b[0m                                  Traceback (most recent call last)",
      "Cell \u001b[0;32mIn[9], line 2\u001b[0m\n\u001b[1;32m      1\u001b[0m \u001b[38;5;28;01mwith\u001b[39;00m dbm\u001b[38;5;241m.\u001b[39mopen(\u001b[38;5;124m'\u001b[39m\u001b[38;5;124mcache\u001b[39m\u001b[38;5;124m'\u001b[39m, \u001b[38;5;124m'\u001b[39m\u001b[38;5;124mc\u001b[39m\u001b[38;5;124m'\u001b[39m) \u001b[38;5;28;01mas\u001b[39;00m db:\n\u001b[0;32m----> 2\u001b[0m     x \u001b[38;5;241m=\u001b[39m \u001b[43mdb\u001b[49m\u001b[43m[\u001b[49m\u001b[38;5;124;43m'\u001b[39;49m\u001b[38;5;124;43mhello1\u001b[39;49m\u001b[38;5;124;43m'\u001b[39;49m\u001b[43m]\u001b[49m\n",
      "File \u001b[0;32m~/miniconda/envs/jupyter/lib/python3.10/dbm/dumb.py:147\u001b[0m, in \u001b[0;36m_Database.__getitem__\u001b[0;34m(self, key)\u001b[0m\n\u001b[1;32m    145\u001b[0m     key \u001b[38;5;241m=\u001b[39m key\u001b[38;5;241m.\u001b[39mencode(\u001b[38;5;124m'\u001b[39m\u001b[38;5;124mutf-8\u001b[39m\u001b[38;5;124m'\u001b[39m)\n\u001b[1;32m    146\u001b[0m \u001b[38;5;28mself\u001b[39m\u001b[38;5;241m.\u001b[39m_verify_open()\n\u001b[0;32m--> 147\u001b[0m pos, siz \u001b[38;5;241m=\u001b[39m \u001b[38;5;28;43mself\u001b[39;49m\u001b[38;5;241;43m.\u001b[39;49m\u001b[43m_index\u001b[49m\u001b[43m[\u001b[49m\u001b[43mkey\u001b[49m\u001b[43m]\u001b[49m     \u001b[38;5;66;03m# may raise KeyError\u001b[39;00m\n\u001b[1;32m    148\u001b[0m \u001b[38;5;28;01mwith\u001b[39;00m _io\u001b[38;5;241m.\u001b[39mopen(\u001b[38;5;28mself\u001b[39m\u001b[38;5;241m.\u001b[39m_datfile, \u001b[38;5;124m'\u001b[39m\u001b[38;5;124mrb\u001b[39m\u001b[38;5;124m'\u001b[39m) \u001b[38;5;28;01mas\u001b[39;00m f:\n\u001b[1;32m    149\u001b[0m     f\u001b[38;5;241m.\u001b[39mseek(pos)\n",
      "\u001b[0;31mKeyError\u001b[0m: b'hello1'"
     ]
    }
   ],
   "source": [
    "with dbm.open('cache', 'c') as db:\n",
    "    x = db['hello1']"
   ]
  },
  {
   "cell_type": "code",
   "execution_count": 8,
   "id": "ae008f87-3ec8-4314-97c4-49257f266abf",
   "metadata": {},
   "outputs": [
    {
     "data": {
      "text/plain": [
       "b'there'"
      ]
     },
     "execution_count": 8,
     "metadata": {},
     "output_type": "execute_result"
    }
   ],
   "source": [
    "x"
   ]
  },
  {
   "cell_type": "code",
   "execution_count": null,
   "id": "218bfa3d-6c1c-44c2-a743-89938b3f3fba",
   "metadata": {},
   "outputs": [],
   "source": []
  }
 ],
 "metadata": {
  "kernelspec": {
   "display_name": "Python [conda env:crabnlp]",
   "language": "python",
   "name": "conda-env-crabnlp-py"
  },
  "language_info": {
   "codemirror_mode": {
    "name": "ipython",
    "version": 3
   },
   "file_extension": ".py",
   "mimetype": "text/x-python",
   "name": "python",
   "nbconvert_exporter": "python",
   "pygments_lexer": "ipython3",
   "version": "3.11.0"
  },
  "vscode": {
   "interpreter": {
    "hash": "916dbcbb3f70747c44a77c7bcd40155683ae19c65e1c03b4aa3499c5328201f1"
   }
  }
 },
 "nbformat": 4,
 "nbformat_minor": 5
}
