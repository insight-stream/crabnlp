{
 "cells": [
  {
   "cell_type": "code",
   "execution_count": 1,
   "id": "e82c3714-e785-4a63-83f8-9b8de975768a",
   "metadata": {},
   "outputs": [
    {
     "name": "stderr",
     "output_type": "stream",
     "text": [
      "/home/marat/miniconda/envs/crabnlp/lib/python3.11/site-packages/tqdm/auto.py:22: TqdmWarning: IProgress not found. Please update jupyter and ipywidgets. See https://ipywidgets.readthedocs.io/en/stable/user_install.html\n",
      "  from .autonotebook import tqdm as notebook_tqdm\n",
      "None of PyTorch, TensorFlow >= 2.0, or Flax have been found. Models won't be available and only tokenizers, configuration and file/data utilities can be used.\n"
     ]
    }
   ],
   "source": [
    "import os\n",
    "from typing import List\n",
    "\n",
    "import openai\n",
    "from transformers import GPT2TokenizerFast\n",
    "from polyglot.detect import Detector\n",
    "\n",
    "from crabnlp.youtube import download_captions_and_meta\n",
    "from crabnlp.summarize import chunk_a_text\n",
    "\n",
    "from crabnlp.qa import answer_on_video"
   ]
  },
  {
   "cell_type": "code",
   "execution_count": 2,
   "id": "7c4fcbe0-c0a5-493e-8b03-02dbc2cf265c",
   "metadata": {},
   "outputs": [],
   "source": [
    "GPT_MODEL_NAME = \"gpt-3.5-turbo\"\n",
    "openai.api_key = os.environ['OPENAI']\n"
   ]
  },
  {
   "cell_type": "code",
   "execution_count": 3,
   "id": "c5b23f11-df72-498d-9c9b-3f157e793e0e",
   "metadata": {},
   "outputs": [],
   "source": [
    "meta = download_captions_and_meta(\"https://www.youtube.com/watch?v=fwQKUUXKUM0\")\n",
    "whole_text = ' '.join(w['text'] for w in meta['captions'])"
   ]
  },
  {
   "cell_type": "code",
   "execution_count": 4,
   "id": "cf860dcf-e670-49f9-ac7e-862a69866c96",
   "metadata": {},
   "outputs": [
    {
     "name": "stderr",
     "output_type": "stream",
     "text": [
      "Token indices sequence length is longer than the specified maximum sequence length for this model (16730 > 1024). Running this sequence through the model will result in indexing errors\n"
     ]
    },
    {
     "name": "stdout",
     "output_type": "stream",
     "text": [
      "results=['Видео не утверждает, что инопланетяне являются атеистами. В заголовке и в самом видео речь идет о том, как некоторые люди ищут улики о существовании инопланетной жизни в Библии. Видео не обсуждает религиозные взгляды инопланетян.', 'Я не могу ответить на этот вопрос, так как в рассматриваемом видео не было упоминаний о том, что инопланетяне являются атеистами. Видео было о различных религиозных культах и верованиях в разных культурах, но не было связано с инопланетянами. Возможно, вы перепутали видео или вопросы. Если у вас есть более конкретный вопрос, я буду рад помочь.', 'В видео не утверждается, что все инопланетяне являются атеистами. Это утверждение было дано в контексте гипотетического сценария, где инопланетные существа, посетив Землю, оказались бы атеистами, никогда не слышавшими о богах и высших разумах. В таком случае, возникли бы проблемы у земных религий, которые не смогли бы объяснить наличие других форм разумной жизни во Вселенной без упоминания об этом в своих священных текстах. Однако, это лишь гипотетический сценарий, и нельзя утверждать, что все инопланетяне являются атеистами.', 'В рассматриваемом видео не было утверждения о том, что инопланетяне являются атеистами. Видео обсуждает различные документы и отчеты о наблюдениях неопознанных летающих объектов и возможных визитах инопланетных цивилизаций на Землю. Однако, в целом, религиозные убеждения инопланетных цивилизаций, если они существуют, неизвестны и могут различаться в зависимости от культуры и истории этих цивилизаций.', 'В данном видео не утверждается, что инопланетяне являются атеистами. Вопрос об инопланетной жизни и их вероисповедании не рассматривается в данном контексте. Видео говорит о том, что на данный момент нет доказательств существования разумной жизни на других планетах, и что вопрос об инопланетной жизни должен считаться в большей степени вопросом веры.', 'В данном видео не утверждается, что инопланетяне являются атеистами. Видео рассказывает о том, что канадский астрофизик Хью Росс считает, что ангелы из Библии могут быть инопланетянами, которые были посланы богом. Однако, такое утверждение является скорее религиозным, а не научным, и не имеет прямого отношения к тому, являются ли инопланетяне атеистами или нет.', 'В видео не утверждается, что все инопланетяне являются атеистами. Речь идет о том, что некоторые люди используют библейские ангелы как аргумент в пользу существования инопланетной жизни, но при этом они не учитывают научные данные и факты, которые противоречат такому утверждению. Поэтому автор видео подчеркивает, что использование библейских текстов в научных дискуссиях не является убедительным аргументом и не может заменить научный метод и критическое мышление.']\n"
     ]
    },
    {
     "data": {
      "text/plain": [
       "'Никаких утверждений о том, что все инопланетяне являются атеистами, не было сделано в данном контексте. Возможно, вы перепутали видео или вопросы. Если у вас есть более конкретный вопрос, я буду рад помочь.'"
      ]
     },
     "execution_count": 4,
     "metadata": {},
     "output_type": "execute_result"
    }
   ],
   "source": [
    "a = await answer_on_video(\"почему инопланетяне - атеисты?\", whole_text, meta['title'], verbose=True)\n",
    "a"
   ]
  },
  {
   "cell_type": "code",
   "execution_count": 5,
   "id": "215e3b66-9044-4dd7-9f31-ad429d321f08",
   "metadata": {},
   "outputs": [
    {
     "name": "stdout",
     "output_type": "stream",
     "text": [
      "results=['Видео называется \"Инопланетяне из Библии\" и, вероятно, рассматривает тему наличия упоминаний о пришельцах из космоса в Библии. Однако, по тексту, который был предоставлен, невозможно точно определить содержание видео, так как текст не имеет прямого отношения к этой теме.', 'The video is called \"Инопланетяне из Библии | Атеистический дайджест #401\" and it discusses various topics related to religion and superstition, such as the belief in extraterrestrial life in the Bible, the use of magic tricks to deceive people, and the revival of ancient dog-worshipping cults in Mexico.', 'Видео называется \"Инопланетяне из Библии | Атеистический дайджест #401\". В нем обсуждаются возможные связи между религией и инопланетной жизнью, а также рассматриваются различные гипотезы и теории на эту тему. В частности, речь идет о том, как инопланетная жизнь может быть воспринята религиозными людьми и как это может повлиять на их веру. Также обсуждаются некоторые исторические факты и события, связанные с религией и астрономией.', 'Видео называется \"Инопланетяне из Библии | Атеистический дайджест #401\" и, как можно судить по названию, посвящено теме инопланетян, их упоминания в Библии и современных исследованиях в этой области. В видео рассказывается о различных фактах и гипотезах, связанных с возможным существованием инопланетной жизни и их посещениями Земли. Также приводятся примеры исследований и документов, связанных с темой НЛО.', 'Видео называется \"Инопланетяне из Библии | Атеистический дайджест #401\". В нем обсуждаются различные взгляды на возможность существования инопланетной жизни и их связь с религиозными убеждениями, в частности, с упоминаниями об инопланетянах в Библии. Также рассматриваются научные аргументы и вероятности нахождения разумной жизни в космосе.', 'Видео называется \"Инопланетяне из Библии | Атеистический дайджест #401\". В нем рассказывается о том, что некоторые люди, включая канадского астрофизика Хью Росса, считают, что доказательства посещения земли инопланетянами есть в Библии, а именно в виде ангелов, которые выполняли поручения бога. В видео также рассматривается критический взгляд на такие утверждения и на веру в библейских ангелов как в инопланетных существ.', 'Видео называется \"Инопланетяне из Библии | Атеистический дайджест #401\". В нем обсуждаются заявления о том, что ангелы, упоминаемые в Библии, могут быть трактованы как инопланетные существа. Автор видео критически относится к этой идее и указывает на отсутствие научных доказательств ее подтверждения.']\n"
     ]
    },
    {
     "data": {
      "text/plain": [
       "'Видео называется \"Инопланетяне из Библии | Атеистический дайджест #401\", и в нем рассматриваются различные темы, связанные с религией и инопланетной жизнью. Это может включать возможные связи между религией и инопланетной жизнью, гипотезы и теории на эту тему, исторические факты и события, связанные с религией и астрономией, а также рассмотрение заявлений о том, что ангелы, упоминаемые в Библии, могут быть трактованы как инопланетные существа.'"
      ]
     },
     "execution_count": 5,
     "metadata": {},
     "output_type": "execute_result"
    }
   ],
   "source": [
    "a = await answer_on_video(\"О чем видео?\", whole_text, meta['title'], verbose=True)\n",
    "a"
   ]
  },
  {
   "cell_type": "code",
   "execution_count": null,
   "id": "abd46eb7-9339-43c9-9f59-c614dd36be11",
   "metadata": {},
   "outputs": [],
   "source": []
  },
  {
   "cell_type": "code",
   "execution_count": null,
   "id": "174311ef-cca4-4535-84a4-cb0c3ffa07cd",
   "metadata": {},
   "outputs": [],
   "source": []
  },
  {
   "cell_type": "code",
   "execution_count": null,
   "id": "13ff8513-0f2a-4737-8a51-317a0df73bb7",
   "metadata": {},
   "outputs": [],
   "source": []
  },
  {
   "cell_type": "code",
   "execution_count": 7,
   "id": "e65754bf-1d49-469a-b46a-3b0587262e1b",
   "metadata": {},
   "outputs": [
    {
     "name": "stdout",
     "output_type": "stream",
     "text": [
      "results=['В данном отрывке из видео не было упоминаний о атеизме. Видео носит информационно-развлекательный характер и затрагивает различные темы, в данном случае - о мошенничестве с черными долларами.', 'В видео \"Инопланетяне из Библии | Атеистический дайджест #401\" не было сказано ничего конкретного про атеизм. Видео посвящено различным религиозным культам и верованиям в разных частях мира.', 'В данном видео обсуждаются различные темы, включая возможность существования инопланетной жизни и ее влияние на религиозные концепции, но в общем контексте не утверждается ничего конкретного про атеизм. Однако, автор видео является атеистом и использует свой мировоззренческий подход при анализе религиозных тем.', 'В видео не было упоминаний о самом атеизме как философском направлении или убеждении. Однако, автор видео представляет себя как атеистический дайджест, что может указывать на его атеистические убеждения.', 'В данном видео речь идет о том, что наличие инопланетной жизни является скорее вопросом веры, так как на данный момент наука не может дать определенного ответа на этот вопрос. Однако, автор видео является атеистом и не уделяет особого внимания религиозным аргументам в пользу существования инопланетной жизни.', 'В этом видео не обсуждается атеизм как таковой, но авторы видео являются атеистами и используют этот термин в названии своего канала. В видео речь идет о вере в инопланетную жизнь, которая может быть основана на религиозных представлениях, но не обязательно связана с атеизмом.', 'В данном отрывке из видео не упоминается ничего про атеизм. Видео называется \"Инопланетяне из Библии | Атеистический дайджест #401\", но это не означает, что в данном отрывке речь идет о самом атеизме. Возможно, в других частях видео рассматривается тема атеизма.']\n"
     ]
    },
    {
     "data": {
      "text/plain": [
       "'В данном отрывке из видео не было сказано ничего конкретного про атеизм. Однако, автор видео является атеистом и использует свой мировоззренческий подход при анализе религиозных тем. В видео \"Инопланетяне из Библии | Атеистический дайджест #401\" не было упоминаний о самом атеизме как философском направлении или убеждении.'"
      ]
     },
     "execution_count": 7,
     "metadata": {},
     "output_type": "execute_result"
    }
   ],
   "source": [
    "a = await answer_on_video(\"Что сказано про атеизм?\", whole_text, meta['title'], verbose=True)\n",
    "a"
   ]
  },
  {
   "cell_type": "code",
   "execution_count": 7,
   "id": "da1af160-9d7b-4fd8-a59a-3cfa0dba44d3",
   "metadata": {},
   "outputs": [
    {
     "data": {
      "text/plain": [
       "'Видео обсуждает различные аспекты, связанные с возможным существованием инопланетной жизни и ее отношения к религиозным учениям, включая упоминания инопланетян в Библии, научную перспективу на их поиск и исследование, а также альтернативные интерпретации библейских ангелов как инопланетных существ. В видео также обсуждаются проблемы обмана и мошенничества в отношении сверхъестественных явлений.'"
      ]
     },
     "execution_count": 7,
     "metadata": {},
     "output_type": "execute_result"
    }
   ],
   "source": [
    "a"
   ]
  },
  {
   "cell_type": "code",
   "execution_count": 4,
   "id": "f01c38a6-4290-43f5-a555-f83c0a347175",
   "metadata": {},
   "outputs": [
    {
     "name": "stderr",
     "output_type": "stream",
     "text": [
      "Token indices sequence length is longer than the specified maximum sequence length for this model (12474 > 1024). Running this sequence through the model will result in indexing errors\n"
     ]
    },
    {
     "data": {
      "text/plain": [
       "'Alignment in the context of AI refers to the goal of ensuring that an artificial intelligence system is designed and developed in such a way that its objectives and behavior remain consistent with the values and goals of humans who created it or who will be affected by its actions. This goal is important to prevent AI from becoming hostile or indifferent to humans, and instead ensure that its actions and decisions align with human preferences, needs, and welfare. Ensuring alignment is considered an important aspect of AI safety and has become a major topic of research and discussion in the AI community.'"
      ]
     },
     "execution_count": 4,
     "metadata": {},
     "output_type": "execute_result"
    }
   ],
   "source": [
    "a = await answer_on_video(\"What is alignment?\", whole_text, meta['title'])\n",
    "a"
   ]
  },
  {
   "cell_type": "code",
   "execution_count": null,
   "id": "3f83a5af-b8d3-47a8-82f3-14aab4520d66",
   "metadata": {},
   "outputs": [],
   "source": []
  },
  {
   "cell_type": "code",
   "execution_count": null,
   "id": "e2b504d1-b0ae-46c0-9c28-d96b78862f24",
   "metadata": {},
   "outputs": [],
   "source": []
  },
  {
   "cell_type": "code",
   "execution_count": null,
   "id": "79d65b86-219f-47cc-9cb9-483470e1504c",
   "metadata": {},
   "outputs": [],
   "source": []
  },
  {
   "cell_type": "code",
   "execution_count": null,
   "id": "2ec1c001-ea43-4606-995f-005d1c727d8e",
   "metadata": {},
   "outputs": [],
   "source": []
  },
  {
   "cell_type": "code",
   "execution_count": null,
   "id": "b323dd2d-0860-426c-bf04-6cc9c0ec0dd7",
   "metadata": {},
   "outputs": [],
   "source": []
  },
  {
   "cell_type": "code",
   "execution_count": 8,
   "id": "7b4ec255-945e-4fb9-943c-f5d008c0eee6",
   "metadata": {},
   "outputs": [],
   "source": [
    "meta = download_captions_and_meta(\"https://www.youtube.com/watch?v=wnShOnDOyE0\")\n",
    "whole_text = ' '.join(w['text'] for w in meta['captions'])\n",
    "chunks = list(chunk_a_text(whole_text, 2000))\n",
    "len(chunks)\n",
    "\n",
    "q = 'Why video is called \"Africa rejects Macron\"?'\n",
    "ans = [\n",
    "      'The video is likely called \"Africa rejects Macron\" because it discusses how some African countries are starting to reject France\\'s involvement in Africa and their past actions. Macron and the French are losing ground in these countries to China and Russia, which is causing them frustration and anger. The text suggests that this rejection of French dominance is a broader pan-African movement that includes other Western powers such as the US and UK.',\n",
    "      'The video is likely titled \"Africa rejects Macron\" because it discusses the recent trend of African countries asserting their independence and pushing back against France\\'s historical dominance in the region, which includes criticisms of French President Emmanuel Macron\\'s policies towards these countries.']\n",
    "\n",
    "q='What is said about Wagner?'\n",
    "ans=[\"In the given text, it is mentioned that Macron is taking a lot of his anger out on Wagner on the Wagner group in Russia. Additionally, according to the speaker's views, a lot of the reason that Macron is taking such an extraordinarily Hardline shipping weapons to Ukraine is partly because he's acting out his anger over West Africa. There are also mentioned some crude statements that were apparently made by Joseph Burrell, telling the Russians to stay out of Mali as it's theirs. They are all angry about this and are blaming the Russians, and it is part of the reason why Macron especially is taking it out on the Russians in the way that he is.\", 'In the given text, it is mentioned that Macron is taking a lot of his anger out on Wagner on the Wagner group in Russia.']\n",
    "final_answer='In the given text, it is mentioned that Macron is taking a lot of his anger out on Wagner, which is a group in Russia. However, no further details about this group are provided in the given information.'\n",
    "\n",
    "q='Why Africa is not happy with France?'\n",
    "ans=['According to the given text, many African countries are increasingly disaffected with France because they have overstayed their welcome in these West African countries, and they have run the financial system in these countries ever since they granted their independence. Furthermore, the Western Powers, including France, are trying to maintain control in Africa, supporting all sorts of troubling people and treating the Africans as objects of charity. This has created a sense in Africa that they do not want Western meddling in their affairs, nor Western charity, and they want to assert themselves. Finally, the Chinese and the Russians are coming along, doing trade deals and providing security help, allowing African countries to make their own arrangements and do their own things.', 'According to the given text, many African countries are increasingly resentful towards France because they have overstayed their welcome in these West African nations and they have run the financial system in these countries ever since they granted their independence. Furthermore, the Western Powers, including France, are trying to maintain control in Africa, supporting all sorts of troubling people and treating Africans as objects of charity. This has created a sense in Africa that they do not want Western meddling in their affairs, nor Western charity, and they want to assert themselves.']\n",
    "final_answer='According to the given text, Africa is not happy with France because they believe France has overstayed their welcome in West African countries, and they have been running the financial system in these countries since they granted their independence. Additionally, Western Powers, including France, are trying to maintain control in Africa, supporting all sorts of troubling people, and treating Africans as objects of charity. This has created a sense in Africa that they do not want Western meddling in their affairs or Western charity, and they want to assert themselves.'\n",
    "transvribe=\"Africa is not happy with France because they have long overstayed their welcome in many West African countries and run the financial system since they granted these countries independence. The French have also not been focusing on the interests of the African people, and have been sending people from the French administration to West Africa for their own interests. The Africans are now asserting themselves and establishing themselves as truly independent countries, and they have the confidence to tell the French to leave.\"\n",
    "\n",
    "q='What are alternatives for the African countries?'\n",
    "ans=['The African countries are increasingly turning towards China and Russia as alternatives to Western powers, especially France. China is doing business deals with African countries, while Russia is providing security help which the French pretended to do but never really did, in addition to setting up naval bases. Many African countries have grown up and are now independent, which means they have the right to form their own views, decide their own policies and make their own friends.', 'In this part of the text, it is mentioned that African countries are increasingly turning towards China and Russia as alternatives to Western powers, especially France. China is doing business deals with African countries, while Russia is providing security help in addition to setting up naval bases. Many African countries have grown up and are now independent, which means they have the right to form their own views, decide their policies and make their own friends.']\n",
    "final_answer='The African countries are turning towards China and Russia as alternatives to Western powers, especially France. These countries are seeking assistance and collaborations with China for business deals and with Russia for security help, including naval bases. In doing so, the African countries are diversifying their partnerships and reducing their reliance on traditional Western powers in their pursuit of economic and political development.'\n",
    "\n",
    "q='What countries are mentioned and what is said about each of them?'\n",
    "ans=['The following countries are mentioned in the text:\\n- France\\n- Russia\\n- China \\n- Mali\\n- Burkina Faso \\n- Niger\\n- Central African Republic\\n- Lakers (It is unclear if this refers to a country or if it is a typo)\\n\\nFrance is said to have long overstayed its welcome in West African countries and is losing ground in places such as Mali, Burkina Faso, Niger, and the Central African Republic because of disaffection towards France experienced by these countries. \\n\\nRussia and China are said to be wanted in many places of Africa, including Mali, Burkina Faso, Central African Republic, and Lakers (if this refers to a country). These countries, along with other African countries, are turning their backs on the Western Powers, who have historically maintained their control over African economies while treating Africans as objects of charity. \\n\\nIt is suggested that France should leave West Africa to let these countries build their own futures and focus on what is happening in France, but it is unlikely they will do so.', 'In this part of the text, the countries mentioned are not explicitly stated. However, in the previous parts of the text that I have gathered, the following countries are mentioned:\\n\\n- France is said to have long overstayed its welcome in West African countries and is losing ground in places such as Mali, Burkina Faso, Niger, and the Central African Republic because of disaffection towards France experienced by these countries. \\n\\n- Russia and China are said to be wanted in many places of Africa, including Mali, Burkina Faso, Central African Republic, and Lakers (if this refers to a country). These countries, along with other African countries, are turning their backs on the Western Powers. \\n\\nIt is suggested that France should leave West Africa to let these countries build their own futures and focus on what is happening in France.']\n",
    "final_answer='The following countries are mentioned in the text and these are what is said about each of them:\\n\\n- France: It is said that France has long overstayed its welcome in West African countries and is losing ground in places such as Mali, Burkina Faso, Niger, and the Central African Republic because of disaffection towards France experienced by these countries.\\n\\n- Russia: It is mentioned that Russia is wanted in many places of Africa, including Mali, Burkina Faso, Central African Republic, and Lakers (if this refers to a country).\\n\\n- China: It is mentioned that China is wanted in many places of Africa, including Mali, Burkina Faso, Central African Republic, and Lakers (if this refers to a country). It is also stated that China, along with other African countries, are turning their backs on the Western Powers.\\n\\n- Mali: It is mentioned that Mali is one of the countries where France is losing ground and where Russia and China are wanted.\\n\\n- Burkina Faso: It is mentioned that Burkina Faso is one of the countries where France is losing ground and where Russia and China are wanted.\\n\\n- Niger: It is mentioned that Niger is one of the countries where France is losing ground.\\n\\n- Central African Republic: It is mentioned that the Central African Republic is one of the countries where France is losing ground and where Russia and China are wanted.\\n\\n- Lakers (if this refers to a country): It is mentioned that Lakers, if this refers to a country, is one of the places where Russia and China are wanted. However, it is unclear if this is a typo as it is not clear what country or place \"Lakers\" refers to.'\n",
    "\n",
    "\n",
    "q='What about elites?'\n",
    "ans=['The French system in West Africa allowed the Elite Class of people, the products of these Elite schools in France, to graduate schools in France, gain high positions in the French civil service, and then later on in West Africa. This was a very attractive job creation program for the French Elite, but it is now probably coming to an end. Some of the French Elite are very angry and resentful about this and are complaining to Macron about it.', 'In the chunk of text, it is mentioned that \"they\\'re all very resentful they\\'re all complaining to Macron about it but ultimately realistically there\\'s nothing France can do. It just sounds like if anything Macron or the French government should look at this as a gift there they could finally get out of these entanglements that were distracting they could focus on what\\'s happening in France and let these countries build their own future. Some of the French Elite are very angry and resentful about this and are complaining to Macron about it.\"']\n",
    "final_answer='The French system in West Africa allowed the Elite Class of people to graduate from schools in France, gain high positions in the French civil service, and then later on in West Africa. However, some of the French Elite are now angry and resentful about the program coming to an end, and they are complaining to Macron about it. It appears that the end of this program may negatively impact the career prospects of the French Elite in West Africa.'"
   ]
  },
  {
   "cell_type": "code",
   "execution_count": 15,
   "id": "27eabbad-b1e4-4bca-a728-9f5caff4fdeb",
   "metadata": {},
   "outputs": [
    {
     "data": {
      "text/plain": [
       "3"
      ]
     },
     "execution_count": 15,
     "metadata": {},
     "output_type": "execute_result"
    }
   ],
   "source": [
    "meta = download_captions_and_meta(\"https://www.youtube.com/watch?v=Jli2IHRU0Oo\")\n",
    "whole_text = ' '.join(w['text'] for w in meta['captions'])\n",
    "chunks = list(chunk_a_text(whole_text, 2000))\n",
    "len(chunks)"
   ]
  },
  {
   "cell_type": "code",
   "execution_count": 16,
   "id": "f5663901-e68a-43b1-aa32-021aff716e01",
   "metadata": {},
   "outputs": [],
   "source": [
    "q=\"What is main takeaway?\""
   ]
  },
  {
   "cell_type": "code",
   "execution_count": 9,
   "id": "1c2311bb-cfad-4c3f-9d7e-481b1c24a9b7",
   "metadata": {},
   "outputs": [
    {
     "data": {
      "text/plain": [
       "'The text mentions that the elites in these West African countries, who are usually graduates of elite schools in France, have been given important positions in these countries and have been doing very well out of it. However, this attractive job creation program for the French elite is now probably coming to an end, and some are complaining to Macron about it.'"
      ]
     },
     "execution_count": 9,
     "metadata": {},
     "output_type": "execute_result"
    }
   ],
   "source": [
    "text = chunks[0]\n",
    "resp = openai.ChatCompletion.create(\n",
    "  model=GPT_MODEL_NAME,\n",
    "  messages=[\n",
    "        {\"role\": \"system\", \"content\": \"You are a helpfull assistant. Your job is to gather all information in a given part of a text what answers user's question. Later you will combine the information to write an answer\"},\n",
    "        {\"role\": \"system\", \"content\": f\"Here is a chunk of text you need to gather information relevant to question\\n\\n{text}\"},\n",
    "        {\"role\": \"user\", \"content\": f\"{q}\"}\n",
    "  ]\n",
    ")\n",
    "ans = [resp['choices'][0]['message']['content']]\n",
    "ans[0]"
   ]
  },
  {
   "cell_type": "code",
   "execution_count": 12,
   "id": "2e1755a3-8e29-45ce-9f66-e7ac7c9507de",
   "metadata": {},
   "outputs": [
    {
     "data": {
      "text/plain": [
       "['The French system in West Africa allowed the Elite Class of people, the products of these Elite schools in France, to graduate schools in France, gain high positions in the French civil service, and then later on in West Africa. This was a very attractive job creation program for the French Elite, but it is now probably coming to an end. Some of the French Elite are very angry and resentful about this and are complaining to Macron about it.',\n",
       " 'In the chunk of text, it is mentioned that \"they\\'re all very resentful they\\'re all complaining to Macron about it but ultimately realistically there\\'s nothing France can do. It just sounds like if anything Macron or the French government should look at this as a gift there they could finally get out of these entanglements that were distracting they could focus on what\\'s happening in France and let these countries build their own future. Some of the French Elite are very angry and resentful about this and are complaining to Macron about it.\"']"
      ]
     },
     "execution_count": 12,
     "metadata": {},
     "output_type": "execute_result"
    }
   ],
   "source": [
    "text = chunks[1]\n",
    "a1 = 'The video mentions several countries in Africa, such as Mali, Burkina Faso, the Central African Republic, Niger, Sudan, Djibouti, Ethiopia, Eritrea, and Senegold.'\n",
    "resp = openai.ChatCompletion.create(\n",
    "  model=GPT_MODEL_NAME,\n",
    "  messages=[\n",
    "        {\"role\": \"system\", \"content\": \"You are a helpfull assistant. Your job is to gather all information in a given part of a text what answers user's question. Later you will combine the information to write an answer\"},\n",
    "        {\"role\": \"system\", \"content\": f\"From previous parts you gathered following information:\\n{ans}\"},\n",
    "        {\"role\": \"system\", \"content\": f\"Here is a chunk of text you need to gather information relevant to question\\n\\n{text}\"},\n",
    "        {\"role\": \"user\", \"content\": f\"{q}\"}\n",
    "  ]\n",
    ")\n",
    "ans.append(resp['choices'][0]['message']['content'])\n",
    "ans"
   ]
  },
  {
   "cell_type": "code",
   "execution_count": 13,
   "id": "96ea7fb4-633b-4c6e-8951-9358e263dc5b",
   "metadata": {},
   "outputs": [],
   "source": [
    "NEWLINE = '\\n'\n",
    "resp = openai.ChatCompletion.create(\n",
    "  model=GPT_MODEL_NAME,\n",
    "  messages=[\n",
    "        {\"role\": \"system\", \"content\": f\"You are a helpfull assistant. Given that:\\n{NEWLINE.join(ans)}\"},\n",
    "        {\"role\": \"user\", \"content\": f\"{q}\"}\n",
    "  ]\n",
    ")\n",
    "final_answer = resp['choices'][0]['message']['content']"
   ]
  },
  {
   "cell_type": "code",
   "execution_count": 14,
   "id": "9ee80451-f254-4daa-8ef7-49b0ca91e27d",
   "metadata": {},
   "outputs": [
    {
     "name": "stdout",
     "output_type": "stream",
     "text": [
      "q='What about elites?'\n",
      "ans=['The French system in West Africa allowed the Elite Class of people, the products of these Elite schools in France, to graduate schools in France, gain high positions in the French civil service, and then later on in West Africa. This was a very attractive job creation program for the French Elite, but it is now probably coming to an end. Some of the French Elite are very angry and resentful about this and are complaining to Macron about it.', 'In the chunk of text, it is mentioned that \"they\\'re all very resentful they\\'re all complaining to Macron about it but ultimately realistically there\\'s nothing France can do. It just sounds like if anything Macron or the French government should look at this as a gift there they could finally get out of these entanglements that were distracting they could focus on what\\'s happening in France and let these countries build their own future. Some of the French Elite are very angry and resentful about this and are complaining to Macron about it.\"']\n",
      "final_answer='The French system in West Africa allowed the Elite Class of people to graduate from schools in France, gain high positions in the French civil service, and then later on in West Africa. However, some of the French Elite are now angry and resentful about the program coming to an end, and they are complaining to Macron about it. It appears that the end of this program may negatively impact the career prospects of the French Elite in West Africa.'\n"
     ]
    }
   ],
   "source": [
    "print(f\"{q=}\")\n",
    "print(f\"{ans=}\")\n",
    "print(f\"{final_answer=}\")\n"
   ]
  },
  {
   "cell_type": "code",
   "execution_count": null,
   "id": "45120da4-d2e0-4d31-8569-ca65500fb393",
   "metadata": {},
   "outputs": [],
   "source": []
  },
  {
   "cell_type": "code",
   "execution_count": null,
   "id": "639bae2c-c940-4c08-ae9a-e43cb315e281",
   "metadata": {},
   "outputs": [],
   "source": []
  },
  {
   "cell_type": "code",
   "execution_count": null,
   "id": "79e67c54-86d9-43d7-be5a-243df1d14d66",
   "metadata": {},
   "outputs": [],
   "source": []
  },
  {
   "cell_type": "code",
   "execution_count": 1,
   "id": "57e26655-9868-484d-8c68-394ed8a5b21c",
   "metadata": {},
   "outputs": [],
   "source": [
    "reply_to = {'message_id': 31, 'from': {'id': 87799679, 'is_bot': False, 'first_name': 'Marat', 'username': 'tsundokum', 'language_code': 'en'}, 'chat': {'id': 87799679, 'first_name': 'Marat', 'username': 'tsundokum', 'type': 'private'}, 'date': 1678097182, 'reply_to_message': {'message_id': 19, 'from': {'id': 87799679, 'is_bot': False, 'first_name': 'Marat', 'username': 'tsundokum', 'language_code': 'en'}, 'chat': {'id': 87799679, 'first_name': 'Marat', 'username': 'tsundokum', 'type': 'private'}, 'date': 1678096417, 'forward_from': {'id': 87799679, 'is_bot': False, 'first_name': 'Marat', 'username': 'tsundokum', 'language_code': 'en'}, 'forward_date': 1678052694, 'text': 'https://youtu.be/x4m_PdFbu-s', 'entities': [{'offset': 0, 'length': 28, 'type': 'url'}]}, 'text': 'Why care about breathing?'}"
   ]
  },
  {
   "cell_type": "code",
   "execution_count": 3,
   "id": "f050efeb-726c-4352-938a-2a5d4cb869a9",
   "metadata": {},
   "outputs": [
    {
     "data": {
      "text/plain": [
       "{'message_id': 19,\n",
       " 'from': {'id': 87799679,\n",
       "  'is_bot': False,\n",
       "  'first_name': 'Marat',\n",
       "  'username': 'tsundokum',\n",
       "  'language_code': 'en'},\n",
       " 'chat': {'id': 87799679,\n",
       "  'first_name': 'Marat',\n",
       "  'username': 'tsundokum',\n",
       "  'type': 'private'},\n",
       " 'date': 1678096417,\n",
       " 'forward_from': {'id': 87799679,\n",
       "  'is_bot': False,\n",
       "  'first_name': 'Marat',\n",
       "  'username': 'tsundokum',\n",
       "  'language_code': 'en'},\n",
       " 'forward_date': 1678052694,\n",
       " 'text': 'https://youtu.be/x4m_PdFbu-s',\n",
       " 'entities': [{'offset': 0, 'length': 28, 'type': 'url'}]}"
      ]
     },
     "execution_count": 3,
     "metadata": {},
     "output_type": "execute_result"
    }
   ],
   "source": [
    "reply_to['reply_to_message']"
   ]
  },
  {
   "cell_type": "code",
   "execution_count": null,
   "id": "7679690d-eb6c-4a58-968f-b6d57c5b1943",
   "metadata": {},
   "outputs": [],
   "source": []
  }
 ],
 "metadata": {
  "kernelspec": {
   "display_name": "Python [conda env:crabnlp]",
   "language": "python",
   "name": "conda-env-crabnlp-py"
  },
  "language_info": {
   "codemirror_mode": {
    "name": "ipython",
    "version": 3
   },
   "file_extension": ".py",
   "mimetype": "text/x-python",
   "name": "python",
   "nbconvert_exporter": "python",
   "pygments_lexer": "ipython3",
   "version": "3.11.0"
  }
 },
 "nbformat": 4,
 "nbformat_minor": 5
}
