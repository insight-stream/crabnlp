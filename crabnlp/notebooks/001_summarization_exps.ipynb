{
 "cells": [
  {
   "cell_type": "code",
   "execution_count": 11,
   "id": "40449dd3-709d-4274-ac73-08de0d9a2962",
   "metadata": {},
   "outputs": [],
   "source": [
    "import os\n",
    "import json\n",
    "from pathlib import Path\n",
    "\n",
    "import openai\n",
    "\n",
    "from summarize import chunk_a_text"
   ]
  },
  {
   "cell_type": "code",
   "execution_count": null,
   "id": "b0fd0ec0-e2e8-4862-9c02-5e42a486d274",
   "metadata": {},
   "outputs": [],
   "source": []
  },
  {
   "cell_type": "code",
   "execution_count": 13,
   "id": "2ccbdbbb-8c4c-4269-992b-ed75714d713c",
   "metadata": {},
   "outputs": [],
   "source": [
    "openai.api_key = os.environ['OPENAI']\n",
    "\n",
    "# tokenizer = GPT2TokenizerFast.from_pretrained(\"gpt2\")"
   ]
  },
  {
   "cell_type": "code",
   "execution_count": 19,
   "id": "03d3d240-0859-4fbf-898d-777e8540225e",
   "metadata": {},
   "outputs": [],
   "source": [
    "FIRST_TOKEN = {\"role\": \"system\", \"content\": \"You are a helpful assistant that helps a user understand a video.\"}\n",
    "def summarize_w_turbo_1step(text):\n",
    "    resp = openai.ChatCompletion.create(\n",
    "      model=\"gpt-3.5-turbo\",\n",
    "      messages=[\n",
    "            FIRST_TOKEN,\n",
    "            {\"role\": \"user\", \"content\": f\"{text}\\n\\nWrite a summary for the text above\"}\n",
    "      ]\n",
    "    )\n",
    "    return resp['choices'][0]['message']['content']"
   ]
  },
  {
   "cell_type": "code",
   "execution_count": 34,
   "id": "a3c5c51c-a08b-4c56-919d-28f548f9555b",
   "metadata": {},
   "outputs": [],
   "source": [
    "def summarize_w_turbo_2steps(text):\n",
    "    resp = openai.ChatCompletion.create(\n",
    "      model=\"gpt-3.5-turbo\",\n",
    "      messages=[\n",
    "            FIRST_TOKEN,\n",
    "            {\"role\": \"user\", \"content\": f\"{text}\\n\\nWrite main ideas as bullet points\"}\n",
    "      ]\n",
    "    )\n",
    "    ideas = resp['choices'][0]['message']['content']\n",
    "    \n",
    "    return summarize_w_turbo_1step(ideas)\n",
    "\n",
    "\n",
    "def summarize_w_turbo_2steps_additive(text):\n",
    "    r1 = openai.ChatCompletion.create(\n",
    "      model=\"gpt-3.5-turbo\",\n",
    "      messages=[\n",
    "            FIRST_TOKEN,\n",
    "            {\"role\": \"user\", \"content\": f\"{text}\\n\\nWrite main ideas as bullet points\"}\n",
    "      ]\n",
    "    )\n",
    "    ideas = r1['choices'][0]['message']['content']\n",
    "    \n",
    "    r2 = openai.ChatCompletion.create(\n",
    "      model=\"gpt-3.5-turbo\",\n",
    "      messages=[\n",
    "            FIRST_TOKEN,\n",
    "            {\"role\": \"user\", \"content\": f\"{text}\\n\\nWrite main ideas as bullet points\"},\n",
    "            {\"role\": \"assistant\", \"content\": ideas},\n",
    "            {\"role\": \"user\", \"content\": \"Write a summary for the text above given main ideas\"}\n",
    "      ]\n",
    "    )\n",
    "    return r2['choices'][0]['message']['content']"
   ]
  },
  {
   "cell_type": "code",
   "execution_count": 25,
   "id": "dd6d2d9e-1446-48c6-becc-e7c445c391ff",
   "metadata": {},
   "outputs": [],
   "source": [
    "metafn = Path(\"/mnt/storage/newsboy/SUReQwwTq1M-meta.json\")\n",
    "with metafn.open() as f:\n",
    "    m = json.load(f)\n",
    "text = ' '.join(x['text'] for x in m['captions'])"
   ]
  },
  {
   "cell_type": "code",
   "execution_count": 26,
   "id": "fb9e2d86-36d7-4d86-b342-7840e5977116",
   "metadata": {},
   "outputs": [],
   "source": [
    "chunks = list(chunk_a_text(text, max_tokens=2000))"
   ]
  },
  {
   "cell_type": "code",
   "execution_count": 27,
   "id": "48a37e27-db35-42d0-94c4-cc3202028751",
   "metadata": {},
   "outputs": [
    {
     "data": {
      "text/plain": [
       "\"hello everyone and welcome to commodity  culture where we break down the  commodity space for both new and  experienced investors before we get  started standard disclaimer nothing here  is investing advice do your own due  diligence and today we are once again  joined by the founder of Peter grandage  and Company and one of the most  respected commentators in the commodity  Space Mr Peter grandich it's great to  have you back on the show good to be  back with you now I want to touch on two  important points you made on your blog  recently that I think it's very  important for investors to understand  you said one failure is the norm in the  junior resource business doesn't mean  there's any dishonesty just means  despite best intentions not everyone  finds a future mine and number two  perhaps more importantly you have to be  both financially and mentally prepared  to lose part or all of your Capital so  how does one financially and mentally  prepare to lose part or all of their  Capital well since I'm an expert on  losing as well as winning I can tell you  that uh part of it comes from the fact  that I think we become too  Believers too fast uh in whatever we're  thinking about or end up buying and we  don't think of or many times if it's  from an advisory standpoint we're not  told of the downside risk and so we take  the best case scenario the moment we're  engaged in that position  and  as you noted for every 10 Juniors out  there and not saying anything that  they're not trying to find something or  doing anything underhanded  but only one or two out of ten is going  to find develop sell or bring into  production a mind so if you just simply  buy and hold forever  about eight out of ten times it's not  going to work for you so  that's an important part  financially when it comes from advice  from people  financial advisors are decent in terms  of measuring people's Financial Risk  where they're very weak is mental  anguish and the reason is it's other  people's money it's not their money so  they don't have the anguish if it  doesn't work out and  what happens is and take me for example  uh both out of the market and by the  market last year turned out to be a bad  year despite phenomenal predictions  about what would happen and the mental  language LED partly to depression and so  you have to understand it as much as it  sounds like you buy a low and sell high  is a much much tougher and the junior  resource Market is probably one of the  toughest markets because that so many  just don't work out despite them trying  hard so those are the things I think you  got to think about before you get you  know if you're just taking a flyer and  buying a thousand shares of something  that's fine but if you're going to be  active in that market  you need to be prepared mentally and  financially for it  yeah it makes a lot of sense I I want to  talk about gold here because we're  seeing a lot of chaos around the world  the war in Russia between Russia and  Ukraine seems to be escalating NATO and  Western countries are getting more and  more involved we're seeing social unrest  around the world you know High inflation  central banks aggressively raising rates  that could be leading to a global  recession is this an environment where  you think holding gold is perhaps more  important than it's been in a long time  well I I personally have from the 1600s  talked about what I believe was going to  be a new Mega bull market  some still argue it's a big bear Market  rally uh but I think it's a new bull  market and two things have made me feel  that confident the first is the paper  Market which used to be dominated in  London and on the crimex which some  people call the comex I call it the  crimex  was Notorious for shorting and taking  advantage of the downside that has  lesson a because they finally caught  people charged them and convicted them  so it's not a free ride anymore  and B A lot of the paper trading has  moved to the Far East where there's a  lot less of that  but the main reason for the gold  bullishness is the tremendous buy-in by  central banks Jesse I can't tell you  they're not buying for a speculation  they're not buying for a trade they're  buying for a major reason uh whether  it's just to diversify from the US  dollar the thought that the US dollar  has peaked or or there'll be a new  currency or a combination of all those  three things that alone is but one of  the things I used to say in the days  when I was on the management side of the  business buy gold and hope it doesn't go  up and people say well why would I want  to buy something if you don't think it's  going to go up well most people are  heavily invested and we saw last year in  financial assets and most times if  Financial assets do well gold doesn't  and vice versa so you buy it like you  buy car insurance or home insurance you  don't want the home to burn but if it  does you want something to offset it and  I find that in the U.S steel investors  are terribly under invested in Gold they  don't even have a half of one percent in  a portfolio and uh that's because also  Jesse that the financial industry in the  US at least treats gold like Kryptonite  they don't want to speak about it they  don't want to talk about it you know  they'll talk about cryptocurrencies  before they'll talk about gold so I I  think gold is is a deserving asset at  all times but now in particular I think  there's a lot of upside for it  yeah and I like how you said withholding  the physical metal the the hope is that  it doesn't go up in that sense like as  our friend Peter spinner says you buy  gold not to make money you buy it to not  lose money and gold kind of stayed flat  last year while the broader Market fell  dramatically so in my mind it did its  job at protecting purchasing power not  to mention it's actually gone up in a  lot of other currencies if you don't  measure it in US dollars but you measure  it in other currencies it's reached  all-time highs in a lot of those Japan  for example the Japanese Yen if you're  in Japan holding gold you're very happy  right now  um so I wanted to get your thoughts on  the continued push for new green economy  and leaders around the world seemingly  looking to punish companies and  industries that don't match their idea  of green you know Croatia has in my mind  unfortunately where I'm at moved closer  to the EU and the EU is coming up with  all sorts of schemes that you have to be  carbon neutral you have to do this or  else we're going to find you  um is this a sustainable Trend or do you  think the pendulum will eventually swing  the other way well there's an old saying  don't fight City Hall and this is a  worldwide movement it's hard to fight  governments there here in the U.S  they've seemed to totally committed to  it everything's coming you know electric  cars electric this you know  uh big solar all that type of stuff I  don't see it unwinding I don't see it  reversing so I think we have to get used  to it but the amazing thing is they're  all putting the cop before the horse  because they're all switching over  where's the infrastructure to provide  the electricity for all these cars we  have blackouts and brownouts now  throughout the United States just on the  current demand for electricity and it's  a joke when I say it but it has serious  implications our electrical grid was  built by Thomas Edison I mean that's how  old it is and it's not coordinated so  there and and we can talk about it later  maybe the the minerals and all that are  going to be needed to make all these  things these cars and so forth is is not  readily available so I don't think it's  going to get to the level as fast as  they predict because of those things but  there's no doubt that the governments at  least have decided pedal to the metal  this is the way we're going  right well let's talk about that right  now then the minerals that are needed to  bring about this new green economy  obviously copper is a really big one  um lithium for Batteries graphite all  those things what let me get your take  on the battery Metals here because the  push for the EV Revolution is in full  swing as you're saying the  infrastructure isn't even there but they  are pushing for this which means those  minerals are going to be in demand do  you think at least in the short term  there is an opportunity in battery  Metals right now or is that not an area  you look at I don't follow it but I  think all those things I think what  people have to recognize and take a step  back and this goes back you know I'm  just starting my going to be going into  my 40th year around this so I've been  around the block and the metals and  Mining I've seen enough  ups and downs especially Downs to last a  multiple lifetimes but I'll tell you  this what's changed dramatically for\""
      ]
     },
     "execution_count": 27,
     "metadata": {},
     "output_type": "execute_result"
    }
   ],
   "source": [
    "chunks[0]"
   ]
  },
  {
   "cell_type": "code",
   "execution_count": 36,
   "id": "dc843b94-d69e-4783-a954-690e6a21354c",
   "metadata": {},
   "outputs": [
    {
     "data": {
      "text/plain": [
       "\"The founder of Peter Grandich and Company, Mr. Peter Grandich, joins a Commodity Culture podcast to discuss the commodity space. He highlights the risk of investing in the junior resource business and encourages investors to mentally and financially prepare for the possibility of losing some or all of their capital. He also points out the bullishness of gold due to central banks' significant buys and notes that gold is an underinvested asset in the US. He comments on the push towards a green economy and the minerals like copper and lithium needed to achieve it, saying that it will take time to reach the predicted level, but the push is on.\""
      ]
     },
     "execution_count": 36,
     "metadata": {},
     "output_type": "execute_result"
    }
   ],
   "source": [
    "summarize_w_turbo_1step(chunks[0])"
   ]
  },
  {
   "cell_type": "code",
   "execution_count": 29,
   "id": "fd952a2e-f677-487a-88f8-86c19a2ff4d1",
   "metadata": {},
   "outputs": [
    {
     "data": {
      "text/plain": [
       "'In the video, the importance of understanding the risks in the junior resource business both financially and mentally was emphasized. The central banks are buying gold as a diversification strategy and as a hedge against a potential decline of the US dollar. However, it may be difficult to fight against the global trend towards green energy and government regulations. While the demand for battery metals such as copper, lithium, and graphite are increasing with the push for electric vehicles, the infrastructure needs for the new green economy are not yet in place. It is essential to note that nothing in the video should be construed as investment advice.'"
      ]
     },
     "execution_count": 29,
     "metadata": {},
     "output_type": "execute_result"
    }
   ],
   "source": [
    "summarize_w_turbo_2steps(chunks[0])"
   ]
  },
  {
   "cell_type": "code",
   "execution_count": 35,
   "id": "2871436f-d1fb-468c-8e7c-634d1d701cdf",
   "metadata": {},
   "outputs": [
    {
     "data": {
      "text/plain": [
       "'In this video, Peter Grandich, the founder of Peter Grandich and Company, discusses various aspects of investing in commodities. He advises investors to be prepared financially and mentally to lose their capital and talks about how the junior resource market has a high failure rate. He also emphasizes the need for diversification into physical gold and talks about how gold is an under-invested asset in the US. Additionally, he comments on the worldwide push for a green economy and the need for the infrastructure to catch up with the technology to supply the demand for electric cars, and other green technologies. Lastly, he stated that battery metals would be in demand, but talks about the ups and downs of the commodity market.'"
      ]
     },
     "execution_count": 35,
     "metadata": {},
     "output_type": "execute_result"
    }
   ],
   "source": [
    "summarize_w_turbo_2steps_additive(chunks[0])"
   ]
  },
  {
   "cell_type": "code",
   "execution_count": null,
   "id": "ec53dac0-7b9b-44ae-a7fd-7129aab99ec2",
   "metadata": {},
   "outputs": [],
   "source": []
  }
 ],
 "metadata": {
  "kernelspec": {
   "display_name": "Python 3",
   "language": "python",
   "name": "python3"
  },
  "language_info": {
   "codemirror_mode": {
    "name": "ipython",
    "version": 3
   },
   "file_extension": ".py",
   "mimetype": "text/x-python",
   "name": "python",
   "nbconvert_exporter": "python",
   "pygments_lexer": "ipython3",
   "version": "3.10.6"
  },
  "vscode": {
   "interpreter": {
    "hash": "916dbcbb3f70747c44a77c7bcd40155683ae19c65e1c03b4aa3499c5328201f1"
   }
  }
 },
 "nbformat": 4,
 "nbformat_minor": 5
}
