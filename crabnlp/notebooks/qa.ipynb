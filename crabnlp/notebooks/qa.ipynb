{
 "cells": [
  {
   "cell_type": "code",
   "execution_count": 1,
   "id": "a4d234ac-9fcc-466a-a61e-59b1cd979bd3",
   "metadata": {},
   "outputs": [],
   "source": [
    "import asyncio\n",
    "import os\n",
    "from typing import List\n",
    "from functools import partial\n",
    "\n",
    "import openai\n",
    "\n",
    "from crabnlp.youtube import adownload_captions_and_meta\n",
    "from crabnlp.llms import chunk_a_text, chunk_texts, acreate_chatcompletion, tlen, GPT_MAX_CONTEXT_LEN\n",
    "from crabnlp.llms import map_chatgpt, map_chatgpt_recursive"
   ]
  },
  {
   "cell_type": "code",
   "execution_count": 2,
   "id": "94e7fca3-0f0f-457b-9c59-b781caeecdc0",
   "metadata": {},
   "outputs": [],
   "source": [
    "def gather_information(question, text, context, source_type):\n",
    "    return [\n",
    "             {\"role\": \"system\", \"content\": context},\n",
    "             {\"role\": \"system\", \"content\": f\"Excerpt from the {source_type}\\n\\n{text}\"},\n",
    "             {\"role\": \"user\", \"content\": f\"{question}\"}\n",
    "           ]"
   ]
  },
  {
   "cell_type": "code",
   "execution_count": 3,
   "id": "f4378128-097e-47b0-abc7-3f6553742f31",
   "metadata": {},
   "outputs": [],
   "source": [
    "def combine_and_answer(question, text, context):\n",
    "    return [\n",
    "             {\"role\": \"system\",\n",
    "              \"content\": f\"{context}. Given that:\\n{text}\"},\n",
    "             {\"role\": \"user\",\n",
    "              \"content\": f\"{question}\"}\n",
    "           ]"
   ]
  },
  {
   "cell_type": "code",
   "execution_count": 8,
   "id": "3aa77641-47b8-4e02-979a-bd0141d33cc2",
   "metadata": {},
   "outputs": [],
   "source": [
    "async def answer(question, text, context=None, source_type=\"text\", verbose=False):\n",
    "    if not context:\n",
    "        context = \"You are a helpfull assistant.\"\n",
    "    gi = lambda t: gather_information(question, t, context, source_type=source_type)\n",
    "    results, toks1 = await map_chatgpt(gi, text)\n",
    "    if verbose:\n",
    "        print(f\"{results=}\")\n",
    "    ca = lambda t: combine_and_answer(question, t, context)\n",
    "    answer, toks2 = await map_chatgpt_recursive(ca, results)\n",
    "    return '\\n'.join(answer).strip(), toks1 + toks2"
   ]
  },
  {
   "cell_type": "code",
   "execution_count": 9,
   "id": "90730b7d-3b35-4cdc-9481-b689a338d8c8",
   "metadata": {},
   "outputs": [],
   "source": [
    "async def answer_on_video(question, text, title, verbose=False):\n",
    "    context = f'You are answering questions on a video called \"{title}\"'\n",
    "    return await answer(question, text, context=context, source_type=\"video\", verbose=verbose)\n"
   ]
  },
  {
   "cell_type": "code",
   "execution_count": 10,
   "id": "9ee14e08-d79b-4e38-b0e1-e3881b2b0337",
   "metadata": {},
   "outputs": [],
   "source": [
    "async def talk_to_llm(question, verbose=False):\n",
    "    resp = await acreate_chatcompletion(\n",
    "      messages=[\n",
    "            {\"role\": \"user\", \"content\": f\"{question}\"}\n",
    "      ]\n",
    "    )\n",
    "    return resp['choices'][0]['message']['content']"
   ]
  },
  {
   "cell_type": "code",
   "execution_count": null,
   "id": "16c797f1-56e6-4c20-93e1-b967fdd982fd",
   "metadata": {},
   "outputs": [],
   "source": []
  },
  {
   "cell_type": "markdown",
   "id": "6291bbce-ddf7-439a-ad08-02f5264ea845",
   "metadata": {},
   "source": [
    "# Videos being tested on\n",
    "### Mdge9Yk7KTM\n",
    "A long president speech and question 'Что президент говорит о случаях братания?' have no answer in the speech. Answer should be very small\n",
    "\n",
    "### VROKh092UYc \n",
    "A 3 hour long video gives physiological information about bith process. Question 'Напиши список вещей  которые нужно купить для ребёнка на первое время. В порядке их важности. Обязательно добавь в список градусник и обсуди их типы и какой лучше всего. Список остальных вещей тоже должен быть максимально конкретный.' is tricky because the video doesn't have answer to the video, but ChatGPT is trying to answer. Perhaps adding sources could help."
   ]
  },
  {
   "cell_type": "code",
   "execution_count": 118,
   "id": "4a1567fe-a5e0-4df2-963a-36585fb67be8",
   "metadata": {},
   "outputs": [],
   "source": []
  }
 ],
 "metadata": {
  "kernelspec": {
   "display_name": "Python [conda env:crabnlp]",
   "language": "python",
   "name": "conda-env-crabnlp-py"
  },
  "language_info": {
   "codemirror_mode": {
    "name": "ipython",
    "version": 3
   },
   "file_extension": ".py",
   "mimetype": "text/x-python",
   "name": "python",
   "nbconvert_exporter": "python",
   "pygments_lexer": "ipython3",
   "version": "3.11.2"
  }
 },
 "nbformat": 4,
 "nbformat_minor": 5
}
